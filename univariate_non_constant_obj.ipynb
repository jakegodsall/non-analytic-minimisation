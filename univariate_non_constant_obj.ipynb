{
 "cells": [
  {
   "cell_type": "markdown",
   "id": "ab4dac22",
   "metadata": {},
   "source": [
    "# Univariate Gaussian with Non-Constant Objective Function"
   ]
  },
  {
   "cell_type": "code",
   "execution_count": 7,
   "id": "ce428ce4",
   "metadata": {},
   "outputs": [],
   "source": [
    "import numpy as np\n",
    "\n",
    "from scipy.optimize import minimize\n",
    "\n",
    "import matplotlib.pyplot as plt\n",
    "import seaborn\n",
    "seaborn.set_style(\"darkgrid\")\n",
    "\n",
    "from src.callback import Simulator\n",
    "from src.output import OutputGenerator"
   ]
  },
  {
   "cell_type": "markdown",
   "id": "589bd078",
   "metadata": {},
   "source": [
    "## Setting $\\mu$ to be a function of some parameters $a$, $b$\n",
    "\n",
    "Let $\\mu(a, b) = ax^{2} + bx^{2}$"
   ]
  },
  {
   "cell_type": "code",
   "execution_count": 8,
   "id": "fe486cd1",
   "metadata": {},
   "outputs": [],
   "source": [
    "def model(params, x):\n",
    "    x, y = params\n",
    "    return ((x + 2*y - 7)**2 + (2*x + y - 5)**2)*x"
   ]
  },
  {
   "cell_type": "code",
   "execution_count": 9,
   "id": "dc522638",
   "metadata": {},
   "outputs": [],
   "source": [
    "# define the univariate Gaussian likelihood\n",
    "def likelihood(params, x):\n",
    "    mu = model(params, x)\n",
    "    sigma = 2\n",
    "    n = len(x)\n",
    "    L = (n/2)*np.log(2*np.pi)+(n/2)*np.log(sigma**2)+(1/(2*sigma**2))*sum((x-mu)**2)\n",
    "    return L"
   ]
  },
  {
   "cell_type": "code",
   "execution_count": 10,
   "id": "4eb67023",
   "metadata": {},
   "outputs": [
    {
     "ename": "NameError",
     "evalue": "name 'sample' is not defined",
     "output_type": "error",
     "traceback": [
      "\u001b[0;31m---------------------------------------------------------------------------\u001b[0m",
      "\u001b[0;31mNameError\u001b[0m                                 Traceback (most recent call last)",
      "Input \u001b[0;32mIn [10]\u001b[0m, in \u001b[0;36m<cell line: 10>\u001b[0;34m()\u001b[0m\n\u001b[1;32m      8\u001b[0m likelihood_values \u001b[38;5;241m=\u001b[39m np\u001b[38;5;241m.\u001b[39mzeros(values\u001b[38;5;241m.\u001b[39mshape[\u001b[38;5;241m0\u001b[39m])\n\u001b[1;32m     10\u001b[0m \u001b[38;5;28;01mfor\u001b[39;00m idx, val \u001b[38;5;129;01min\u001b[39;00m \u001b[38;5;28menumerate\u001b[39m(values):\n\u001b[0;32m---> 11\u001b[0m     likelihood_values[idx] \u001b[38;5;241m=\u001b[39m likelihood(val, \u001b[43msample\u001b[49m)\n\u001b[1;32m     13\u001b[0m likelihood_values\n\u001b[1;32m     15\u001b[0m contours \u001b[38;5;241m=\u001b[39m plt\u001b[38;5;241m.\u001b[39mcontour(aa, bb, likelihood_values\u001b[38;5;241m.\u001b[39mreshape(aa\u001b[38;5;241m.\u001b[39mshape), \u001b[38;5;241m10\u001b[39m)\n",
      "\u001b[0;31mNameError\u001b[0m: name 'sample' is not defined"
     ]
    }
   ],
   "source": [
    "a = np.arange(-16, 16, .1)\n",
    "b = np.arange(-16, 16, .1)\n",
    "\n",
    "aa, bb = np.meshgrid(a, b, indexing='ij')\n",
    "\n",
    "values = np.array((aa, bb)).T.reshape(-1, 2)\n",
    "\n",
    "likelihood_values = np.zeros(values.shape[0])\n",
    "\n",
    "for idx, val in enumerate(values):\n",
    "    likelihood_values[idx] = likelihood(val, sample)\n",
    "    \n",
    "likelihood_values\n",
    "\n",
    "contours = plt.contour(aa, bb, likelihood_values.reshape(aa.shape), 10)\n",
    "plt.clabel(contours, inline=1, fontsize=12)\n",
    "plt.ylabel(\"b\")\n",
    "plt.xlabel(\"a\")\n",
    "plt.colorbar()"
   ]
  },
  {
   "cell_type": "code",
   "execution_count": 11,
   "id": "d163dda9",
   "metadata": {},
   "outputs": [
    {
     "ename": "NameError",
     "evalue": "name 'sample' is not defined",
     "output_type": "error",
     "traceback": [
      "\u001b[0;31m---------------------------------------------------------------------------\u001b[0m",
      "\u001b[0;31mNameError\u001b[0m                                 Traceback (most recent call last)",
      "Input \u001b[0;32mIn [11]\u001b[0m, in \u001b[0;36m<cell line: 5>\u001b[0;34m()\u001b[0m\n\u001b[1;32m      1\u001b[0m initial_guess \u001b[38;5;241m=\u001b[39m [\u001b[38;5;241m10\u001b[39m, \u001b[38;5;241m15\u001b[39m]\n\u001b[1;32m      3\u001b[0m likelihood_sim \u001b[38;5;241m=\u001b[39m Simulator(likelihood)\n\u001b[1;32m      5\u001b[0m lik_model \u001b[38;5;241m=\u001b[39m minimize(likelihood_sim\u001b[38;5;241m.\u001b[39msimulate, x0\u001b[38;5;241m=\u001b[39minitial_guess,\n\u001b[0;32m----> 6\u001b[0m                      args\u001b[38;5;241m=\u001b[39m(\u001b[43msample\u001b[49m),\n\u001b[1;32m      7\u001b[0m                      method\u001b[38;5;241m=\u001b[39m\u001b[38;5;124m\"\u001b[39m\u001b[38;5;124mNelder-Mead\u001b[39m\u001b[38;5;124m\"\u001b[39m,\n\u001b[1;32m      8\u001b[0m                      tol\u001b[38;5;241m=\u001b[39m\u001b[38;5;241m1e-6\u001b[39m,\n\u001b[1;32m      9\u001b[0m                      options\u001b[38;5;241m=\u001b[39m{\u001b[38;5;124m\"\u001b[39m\u001b[38;5;124mdisp\u001b[39m\u001b[38;5;124m\"\u001b[39m: \u001b[38;5;28;01mTrue\u001b[39;00m})\n",
      "\u001b[0;31mNameError\u001b[0m: name 'sample' is not defined"
     ]
    }
   ],
   "source": [
    "initial_guess = [10, 15]\n",
    "\n",
    "likelihood_sim = Simulator(likelihood)\n",
    "\n",
    "lik_model = minimize(likelihood_sim.simulate, x0=initial_guess,\n",
    "                     args=(sample),\n",
    "                     method=\"Nelder-Mead\",\n",
    "                     tol=1e-6,\n",
    "                     options={\"disp\": True})"
   ]
  },
  {
   "cell_type": "code",
   "execution_count": 5,
   "id": "196c2e47",
   "metadata": {},
   "outputs": [
    {
     "ename": "NameError",
     "evalue": "name 'likelihood_sim' is not defined",
     "output_type": "error",
     "traceback": [
      "\u001b[0;31m---------------------------------------------------------------------------\u001b[0m",
      "\u001b[0;31mNameError\u001b[0m                                 Traceback (most recent call last)",
      "Input \u001b[0;32mIn [5]\u001b[0m, in \u001b[0;36m<cell line: 1>\u001b[0;34m()\u001b[0m\n\u001b[0;32m----> 1\u001b[0m callback \u001b[38;5;241m=\u001b[39m \u001b[43mlikelihood_sim\u001b[49m\u001b[38;5;241m.\u001b[39mto_dataframe()\n\u001b[1;32m      3\u001b[0m callback\n",
      "\u001b[0;31mNameError\u001b[0m: name 'likelihood_sim' is not defined"
     ]
    }
   ],
   "source": [
    "callback = likelihood_sim.to_dataframe()\n",
    "\n",
    "callback"
   ]
  },
  {
   "cell_type": "code",
   "execution_count": 6,
   "id": "18d3dd96",
   "metadata": {},
   "outputs": [
    {
     "ename": "NameError",
     "evalue": "name 'plt' is not defined",
     "output_type": "error",
     "traceback": [
      "\u001b[0;31m---------------------------------------------------------------------------\u001b[0m",
      "\u001b[0;31mNameError\u001b[0m                                 Traceback (most recent call last)",
      "Input \u001b[0;32mIn [6]\u001b[0m, in \u001b[0;36m<cell line: 1>\u001b[0;34m()\u001b[0m\n\u001b[0;32m----> 1\u001b[0m \u001b[43mplt\u001b[49m\u001b[38;5;241m.\u001b[39mcontour(aa, bb, likelihood_values\u001b[38;5;241m.\u001b[39mreshape(aa\u001b[38;5;241m.\u001b[39mshape), \u001b[38;5;241m20\u001b[39m)\n\u001b[1;32m      2\u001b[0m plt\u001b[38;5;241m.\u001b[39mylabel(\u001b[38;5;124m\"\u001b[39m\u001b[38;5;124mb\u001b[39m\u001b[38;5;124m\"\u001b[39m)\n\u001b[1;32m      3\u001b[0m plt\u001b[38;5;241m.\u001b[39mxlabel(\u001b[38;5;124m\"\u001b[39m\u001b[38;5;124ma\u001b[39m\u001b[38;5;124m\"\u001b[39m)\n",
      "\u001b[0;31mNameError\u001b[0m: name 'plt' is not defined"
     ]
    }
   ],
   "source": [
    "plt.contour(aa, bb, likelihood_values.reshape(aa.shape), 20)\n",
    "plt.ylabel(\"b\")\n",
    "plt.xlabel(\"a\")\n",
    "plt.plot(callback[\"parameter 1\"], callback[\"parameter 2\"])\n",
    "plt.plot(callback[\"parameter 1\"], callback[\"parameter 2\"], 'bx')\n",
    "plt.plot(lik_model.x[0], lik_model.x[1], 'ko', label=f\"mu(a={lik_model.x[0]:.2f}, b={lik_model.x[1]:.2f})\")\n",
    "plt.legend()\n",
    "plt.colorbar()"
   ]
  },
  {
   "cell_type": "code",
   "execution_count": null,
   "id": "64cbf2ce",
   "metadata": {},
   "outputs": [],
   "source": []
  }
 ],
 "metadata": {
  "kernelspec": {
   "display_name": "Python 3 (ipykernel)",
   "language": "python",
   "name": "python3"
  },
  "language_info": {
   "codemirror_mode": {
    "name": "ipython",
    "version": 3
   },
   "file_extension": ".py",
   "mimetype": "text/x-python",
   "name": "python",
   "nbconvert_exporter": "python",
   "pygments_lexer": "ipython3",
   "version": "3.10.4"
  }
 },
 "nbformat": 4,
 "nbformat_minor": 5
}
