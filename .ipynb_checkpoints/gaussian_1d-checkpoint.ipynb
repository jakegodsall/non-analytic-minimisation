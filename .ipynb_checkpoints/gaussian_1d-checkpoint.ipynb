{
 "cells": [
  {
   "cell_type": "markdown",
   "id": "f12002e5",
   "metadata": {},
   "source": [
    "# Univariate Gaussian"
   ]
  },
  {
   "cell_type": "markdown",
   "id": "f21d9858",
   "metadata": {},
   "source": [
    "## Packages"
   ]
  },
  {
   "cell_type": "code",
   "execution_count": 1,
   "id": "000abf66",
   "metadata": {},
   "outputs": [],
   "source": [
    "import numpy as np\n",
    "\n",
    "import matplotlib.pyplot as plt\n",
    "import seaborn as sns\n",
    "\n",
    "import scipy.stats as stats\n",
    "from scipy.optimize import minimize"
   ]
  },
  {
   "cell_type": "markdown",
   "id": "b093c523",
   "metadata": {},
   "source": [
    "## Generate random variables\n",
    "\n",
    "Generate a vector of normal random variables, shape `(n,)`"
   ]
  },
  {
   "cell_type": "code",
   "execution_count": 15,
   "id": "fef84d86",
   "metadata": {},
   "outputs": [
    {
     "name": "stdout",
     "output_type": "stream",
     "text": [
      "(1000,)\n"
     ]
    }
   ],
   "source": [
    "# set the random seed\n",
    "rng = np.random.default_rng(42)\n",
    "# generate a sample of normally distributed random variables with mean mu and variance var\n",
    "mu = 0\n",
    "var = 2\n",
    "sample = rng.normal(mu, var, 1000)\n",
    "\n",
    "print(sample.shape)"
   ]
  },
  {
   "cell_type": "markdown",
   "id": "076fca5f",
   "metadata": {},
   "source": [
    "## Define Normal Distribution Class"
   ]
  },
  {
   "cell_type": "code",
   "execution_count": 9,
   "id": "d53138c0",
   "metadata": {},
   "outputs": [],
   "source": [
    "class NormalDistribution:\n",
    "    def __init__(self):\n",
    "        self.mu_ = None\n",
    "        self.var_ = None\n",
    "        \n",
    "    def fit(self, x):\n",
    "        \"\"\"\n",
    "            Fit the mean and variance of the\n",
    "            Gaussian model using the mean and\n",
    "            variance of the provided sample, x.\n",
    "        \"\"\"\n",
    "        self.mu_ = x.mean()\n",
    "        self.var_ = x.var()\n",
    "        \n",
    "    def pdf(self, x):\n",
    "        \"\"\"\n",
    "            Return a vector (shape of x) of the probabilities\n",
    "            of the values of x\n",
    "        \"\"\"\n",
    "        first_factor = 1 / (np.sqrt(2*np.pi*self.var_))\n",
    "        second_factor = np.exp(-1/(2*self.var_)*(x - self.mu_)**2)\n",
    "        return first_factor*second_factor\n",
    "\n",
    "# instantiate the NormalDistribution class\n",
    "ndist = NormalDistribution()\n",
    "# fit the NormalDistribution model to the sample generated above\n",
    "ndist.fit(sample)"
   ]
  },
  {
   "cell_type": "markdown",
   "id": "aa15e247",
   "metadata": {},
   "source": [
    "## Plotting"
   ]
  },
  {
   "cell_type": "code",
   "execution_count": 5,
   "id": "9b5f1f40",
   "metadata": {},
   "outputs": [
    {
     "data": {
      "text/plain": [
       "[<matplotlib.lines.Line2D at 0x13cbe7010>]"
      ]
     },
     "execution_count": 5,
     "metadata": {},
     "output_type": "execute_result"
    },
    {
     "data": {
      "image/png": "[encoded data removed]",
      "text/plain": [
       "<Figure size 432x288 with 1 Axes>"
      ]
     },
     "metadata": {
      "needs_background": "light"
     },
     "output_type": "display_data"
    }
   ],
   "source": [
    "# generate x-axis points for plotting the pdf\n",
    "xrange = np.linspace(-10, 10, 300)\n",
    "# get probability values for associated x\n",
    "zrange = ndist.pdf(xrange)\n",
    "\n",
    "# plot\n",
    "sns.histplot(sample, bins=25, stat='density')\n",
    "plt.plot(xrange, zrange, color='red')"
   ]
  },
  {
   "cell_type": "code",
   "execution_count": 10,
   "id": "ce8c92d9",
   "metadata": {},
   "outputs": [],
   "source": [
    "def likelihood(params, x):\n",
    "    mu, sigma = params\n",
    "    n = len(x)\n",
    "    L = (n/2)*np.log(2*np.pi)+(n/2)*np.log(sigma**2)+(1/(2*sigma**2))*sum((x-mu)**2)\n",
    "    return L\n",
    "\n",
    "lik_model = minimize(likelihood, x0=np.array([2, 3]), args=(sample))"
   ]
  },
  {
   "cell_type": "code",
   "execution_count": 11,
   "id": "ff433118",
   "metadata": {},
   "outputs": [
    {
     "data": {
      "text/plain": [
       "array([-0.0577832 ,  1.97744471])"
      ]
     },
     "execution_count": 11,
     "metadata": {},
     "output_type": "execute_result"
    }
   ],
   "source": [
    "lik_model.x"
   ]
  },
  {
   "cell_type": "code",
   "execution_count": 13,
   "id": "a912d20e",
   "metadata": {},
   "outputs": [
    {
     "ename": "ValueError",
     "evalue": "shapes (1000,) and (300,) could not be broadcast together",
     "output_type": "error",
     "traceback": [
      "\u001b[0;31m---------------------------------------------------------------------------\u001b[0m",
      "\u001b[0;31mValueError\u001b[0m                                Traceback (most recent call last)",
      "Input \u001b[0;32mIn [13]\u001b[0m, in \u001b[0;36m<cell line: 1>\u001b[0;34m()\u001b[0m\n\u001b[0;32m----> 1\u001b[0m \u001b[43mstats\u001b[49m\u001b[38;5;241;43m.\u001b[39;49m\u001b[43mchisquare\u001b[49m\u001b[43m(\u001b[49m\u001b[43mf_obs\u001b[49m\u001b[38;5;241;43m=\u001b[39;49m\u001b[43msample\u001b[49m\u001b[43m,\u001b[49m\u001b[43m \u001b[49m\u001b[43mf_exp\u001b[49m\u001b[38;5;241;43m=\u001b[39;49m\u001b[43mzrange\u001b[49m\u001b[43m)\u001b[49m\n",
      "File \u001b[0;32m~/miniforge3/envs/minimise/lib/python3.10/site-packages/scipy/stats/_stats_py.py:6911\u001b[0m, in \u001b[0;36mchisquare\u001b[0;34m(f_obs, f_exp, ddof, axis)\u001b[0m\n\u001b[1;32m   6787\u001b[0m \u001b[38;5;28;01mdef\u001b[39;00m \u001b[38;5;21mchisquare\u001b[39m(f_obs, f_exp\u001b[38;5;241m=\u001b[39m\u001b[38;5;28;01mNone\u001b[39;00m, ddof\u001b[38;5;241m=\u001b[39m\u001b[38;5;241m0\u001b[39m, axis\u001b[38;5;241m=\u001b[39m\u001b[38;5;241m0\u001b[39m):\n\u001b[1;32m   6788\u001b[0m     \u001b[38;5;124;03m\"\"\"Calculate a one-way chi-square test.\u001b[39;00m\n\u001b[1;32m   6789\u001b[0m \n\u001b[1;32m   6790\u001b[0m \u001b[38;5;124;03m    The chi-square test tests the null hypothesis that the categorical data\u001b[39;00m\n\u001b[0;32m   (...)\u001b[0m\n\u001b[1;32m   6909\u001b[0m \n\u001b[1;32m   6910\u001b[0m \u001b[38;5;124;03m    \"\"\"\u001b[39;00m\n\u001b[0;32m-> 6911\u001b[0m     \u001b[38;5;28;01mreturn\u001b[39;00m \u001b[43mpower_divergence\u001b[49m\u001b[43m(\u001b[49m\u001b[43mf_obs\u001b[49m\u001b[43m,\u001b[49m\u001b[43m \u001b[49m\u001b[43mf_exp\u001b[49m\u001b[38;5;241;43m=\u001b[39;49m\u001b[43mf_exp\u001b[49m\u001b[43m,\u001b[49m\u001b[43m \u001b[49m\u001b[43mddof\u001b[49m\u001b[38;5;241;43m=\u001b[39;49m\u001b[43mddof\u001b[49m\u001b[43m,\u001b[49m\u001b[43m \u001b[49m\u001b[43maxis\u001b[49m\u001b[38;5;241;43m=\u001b[39;49m\u001b[43maxis\u001b[49m\u001b[43m,\u001b[49m\n\u001b[1;32m   6912\u001b[0m \u001b[43m                            \u001b[49m\u001b[43mlambda_\u001b[49m\u001b[38;5;241;43m=\u001b[39;49m\u001b[38;5;124;43m\"\u001b[39;49m\u001b[38;5;124;43mpearson\u001b[39;49m\u001b[38;5;124;43m\"\u001b[39;49m\u001b[43m)\u001b[49m\n",
      "File \u001b[0;32m~/miniforge3/envs/minimise/lib/python3.10/site-packages/scipy/stats/_stats_py.py:6737\u001b[0m, in \u001b[0;36mpower_divergence\u001b[0;34m(f_obs, f_exp, ddof, axis, lambda_)\u001b[0m\n\u001b[1;32m   6735\u001b[0m \u001b[38;5;28;01mif\u001b[39;00m f_exp \u001b[38;5;129;01mis\u001b[39;00m \u001b[38;5;129;01mnot\u001b[39;00m \u001b[38;5;28;01mNone\u001b[39;00m:\n\u001b[1;32m   6736\u001b[0m     f_exp \u001b[38;5;241m=\u001b[39m np\u001b[38;5;241m.\u001b[39masanyarray(f_exp)\n\u001b[0;32m-> 6737\u001b[0m     bshape \u001b[38;5;241m=\u001b[39m \u001b[43m_broadcast_shapes\u001b[49m\u001b[43m(\u001b[49m\u001b[43mf_obs_float\u001b[49m\u001b[38;5;241;43m.\u001b[39;49m\u001b[43mshape\u001b[49m\u001b[43m,\u001b[49m\u001b[43m \u001b[49m\u001b[43mf_exp\u001b[49m\u001b[38;5;241;43m.\u001b[39;49m\u001b[43mshape\u001b[49m\u001b[43m)\u001b[49m\n\u001b[1;32m   6738\u001b[0m     f_obs_float \u001b[38;5;241m=\u001b[39m _m_broadcast_to(f_obs_float, bshape)\n\u001b[1;32m   6739\u001b[0m     f_exp \u001b[38;5;241m=\u001b[39m _m_broadcast_to(f_exp, bshape)\n",
      "File \u001b[0;32m~/miniforge3/envs/minimise/lib/python3.10/site-packages/scipy/stats/_stats_py.py:190\u001b[0m, in \u001b[0;36m_broadcast_shapes\u001b[0;34m(shape1, shape2)\u001b[0m\n\u001b[1;32m    188\u001b[0m         n \u001b[38;5;241m=\u001b[39m n1\n\u001b[1;32m    189\u001b[0m     \u001b[38;5;28;01melse\u001b[39;00m:\n\u001b[0;32m--> 190\u001b[0m         \u001b[38;5;28;01mraise\u001b[39;00m \u001b[38;5;167;01mValueError\u001b[39;00m(\u001b[38;5;124mf\u001b[39m\u001b[38;5;124m'\u001b[39m\u001b[38;5;124mshapes \u001b[39m\u001b[38;5;132;01m{\u001b[39;00mshape1\u001b[38;5;132;01m}\u001b[39;00m\u001b[38;5;124m and \u001b[39m\u001b[38;5;132;01m{\u001b[39;00mshape2\u001b[38;5;132;01m}\u001b[39;00m\u001b[38;5;124m could not be \u001b[39m\u001b[38;5;124m'\u001b[39m\n\u001b[1;32m    191\u001b[0m                          \u001b[38;5;124m'\u001b[39m\u001b[38;5;124mbroadcast together\u001b[39m\u001b[38;5;124m'\u001b[39m)\n\u001b[1;32m    192\u001b[0m     shape\u001b[38;5;241m.\u001b[39mappend(n)\n\u001b[1;32m    193\u001b[0m \u001b[38;5;28;01mreturn\u001b[39;00m \u001b[38;5;28mtuple\u001b[39m(shape)\n",
      "\u001b[0;31mValueError\u001b[0m: shapes (1000,) and (300,) could not be broadcast together"
     ]
    }
   ],
   "source": [
    "stats.chisquare(f_obs=sample, f_exp=zrange)\n"
   ]
  },
  {
   "cell_type": "code",
   "execution_count": null,
   "id": "2ae5d914",
   "metadata": {},
   "outputs": [],
   "source": []
  }
 ],
 "metadata": {
  "kernelspec": {
   "display_name": "Python 3 (ipykernel)",
   "language": "python",
   "name": "python3"
  },
  "language_info": {
   "codemirror_mode": {
    "name": "ipython",
    "version": 3
   },
   "file_extension": ".py",
   "mimetype": "text/x-python",
   "name": "python",
   "nbconvert_exporter": "python",
   "pygments_lexer": "ipython3",
   "version": "3.10.4"
  }
 },
 "nbformat": 4,
 "nbformat_minor": 5
}
