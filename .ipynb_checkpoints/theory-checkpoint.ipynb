{
 "cells": [
  {
   "cell_type": "markdown",
   "id": "a62c764f",
   "metadata": {},
   "source": [
    "# Theory"
   ]
  },
  {
   "cell_type": "code",
   "execution_count": 1,
   "id": "698c544d",
   "metadata": {},
   "outputs": [],
   "source": [
    "import numpy as np\n",
    "\n",
    "from scipy.optimize import minimize\n",
    "\n",
    "import matplotlib.pyplot as plt\n",
    "import seaborn\n",
    "seaborn.set_style(\"darkgrid\")\n",
    "\n",
    "from src.callback import Simulator"
   ]
  },
  {
   "cell_type": "markdown",
   "id": "4b7761b3",
   "metadata": {},
   "source": [
    "# Maximum Likelihood Estimation in one dimension"
   ]
  },
  {
   "cell_type": "markdown",
   "id": "d64c86b6",
   "metadata": {},
   "source": [
    "## Generating a sample\n",
    "\n",
    "The probability density function of the univariate Gaussian is given by:\n",
    "\n",
    "$$f(x | \\mu, \\sigma^{2}) = \\frac{1}{\\sqrt{2\\pi \\sigma^{2}}}e^{-\\frac{1}{2\\sigma^{2}}(x - \\mu)^{2}}$$"
   ]
  },
  {
   "cell_type": "code",
   "execution_count": 3,
   "id": "6e3f9dff",
   "metadata": {},
   "outputs": [
    {
     "name": "stdout",
     "output_type": "stream",
     "text": [
      "[-4.   -3.99 -3.98 ...  9.97  9.98  9.99]\n",
      "Shape: (500,)\n"
     ]
    },
    {
     "data": {
      "text/plain": [
       "[<matplotlib.lines.Line2D at 0x7f4250dc78b0>]"
      ]
     },
     "execution_count": 3,
     "metadata": {},
     "output_type": "execute_result"
    },
    {
     "data": {
      "image/png": "[encoded data removed]",
      "text/plain": [
       "<Figure size 432x288 with 1 Axes>"
      ]
     },
     "metadata": {
      "needs_background": "light"
     },
     "output_type": "display_data"
    }
   ],
   "source": [
    "# set the random seed\n",
    "rng = np.random.default_rng(42)\n",
    "# generate a sample of normally distributed random variables with mean mu and variance var\n",
    "mu = 3\n",
    "var = 2\n",
    "# generate a random sample using the numpy function\n",
    "sample = rng.normal(mu, var, 500)\n",
    "\n",
    "def pdf(x, mu, var):\n",
    "    \"\"\"\n",
    "        Return a vector (shape of x) of the probabilities\n",
    "        of the values of x\n",
    "    \"\"\"\n",
    "    return 1 / (np.sqrt(2*np.pi*var)) * np.exp(-1/(2*var)*(x - mu)**2)\n",
    "\n",
    "xx = np.arange(-4, 10, 0.01)\n",
    "\n",
    "print(xx)\n",
    "probs = pdf(xx, mu, var)\n",
    "\n",
    "print(f\"Shape: {sample.shape}\")\n",
    "\n",
    "plt.hist(sample, bins=15, density=True);\n",
    "plt.plot(xx, probs, c='red')"
   ]
  },
  {
   "cell_type": "markdown",
   "id": "0f684d24",
   "metadata": {},
   "source": [
    "## Maximum Likelihood Estimation\n",
    "\n",
    "Here we minimise the likelihood function for the univariate Gaussian pdf. This allows us to find the best-fitting parameters.\n",
    "\n",
    "The log-likelihood of the univariate Gaussian is given by:\n",
    "\n",
    "$$\\log \\mathcal{L}(\\mu, \\sigma^{2}| \\vec{x}) = -\\frac{n}{2} \\log (2\\pi) - \\frac{n}{2} \\log \\sigma^{2} - \\frac{1}{2\\sigma^{2}}\\sum_{i = 1}^{n} (x_{i} - \\mu)^{2}$$\n",
    "\n",
    "and hence we want to minimise\n",
    "\n",
    "$$\\hat{\\mu} = -\\text{argmin}_{\\mu} \\log \\mathcal{L}(\\mu, \\sigma^{2} | \\vec{x})$$"
   ]
  },
  {
   "cell_type": "code",
   "execution_count": 5,
   "id": "22cdaf7f",
   "metadata": {},
   "outputs": [],
   "source": [
    "# define the univariate Gaussian likelihood function\n",
    "def likelihood(params, x):\n",
    "    mu = params\n",
    "    sigma = 2\n",
    "    n = len(x)\n",
    "    L = (n/2)*np.log(2*np.pi)+(n/2)*np.log(sigma**2)+(1/(2*sigma**2))*sum((x-mu)**2)\n",
    "    return L"
   ]
  },
  {
   "cell_type": "markdown",
   "id": "bedc0bf8",
   "metadata": {},
   "source": [
    "## Evaluating the likelihood function\n",
    "\n",
    "Evaluating the likelihood function over a range of values, we can geometrically approximate the MLE to be zero."
   ]
  },
  {
   "cell_type": "code",
   "execution_count": 6,
   "id": "ced1c500",
   "metadata": {},
   "outputs": [
    {
     "data": {
      "text/plain": [
       "Text(0.5, 0, 'Mean value: $\\\\mu$')"
      ]
     },
     "execution_count": 6,
     "metadata": {},
     "output_type": "execute_result"
    },
    {
     "data": {
      "image/png": "[encoded data removed]",
      "text/plain": [
       "<Figure size 432x288 with 1 Axes>"
      ]
     },
     "metadata": {
      "needs_background": "light"
     },
     "output_type": "display_data"
    }
   ],
   "source": [
    "# range of mu values to test for maximum likelihood\n",
    "mu = np.arange(-5, 5, 0.01)\n",
    "# list for storing the likelihood values for each mu value\n",
    "likelihood_values = []\n",
    "\n",
    "# loop through all values of mu and append the likelihood value output to likelihood_values\n",
    "for val in mu:\n",
    "    likelihood_values.append(likelihood(val, sample))\n",
    "     \n",
    "# plot the likelihood values\n",
    "plt.plot(mu, likelihood_values)\n",
    "plt.ylabel(\"Likelihood $\\mathcal{L}(\\mu | \\sigma^{2}, x)$\")\n",
    "plt.xlabel(\"Mean value: $\\mu$\")"
   ]
  },
  {
   "cell_type": "markdown",
   "id": "59cec2c1",
   "metadata": {},
   "source": [
    "## Minimising the likelihood function using scipy.optimize.minimize\n",
    "\n",
    "Choose -4 as our initial guess for $\\mu$.\n",
    "\n",
    "As we can see in the plot above, $\\text{MLE}_{\\mu} \\approx 3$, so we should see a clear path from left to right across the curve."
   ]
  },
  {
   "cell_type": "code",
   "execution_count": 7,
   "id": "14ce5b3d",
   "metadata": {},
   "outputs": [
    {
     "name": "stdout",
     "output_type": "stream",
     "text": [
      "Optimization terminated successfully.\n",
      "         Current function value: 1035.950498\n",
      "         Iterations: 27\n",
      "         Function evaluations: 54\n"
     ]
    },
    {
     "data": {
      "text/plain": [
       "array([2.97374802])"
      ]
     },
     "execution_count": 7,
     "metadata": {},
     "output_type": "execute_result"
    }
   ],
   "source": [
    "# choose initial guess to be -4\n",
    "initial_guess = -4\n",
    "\n",
    "# instantiate the simulator class\n",
    "lik_sim = Simulator(likelihood)\n",
    "\n",
    "# minimise the -log(L) function using the wrapper class Simulator\n",
    "lik_model = minimize(lik_sim.simulate, x0=initial_guess,\n",
    "                     args=(sample),\n",
    "                     method=\"Nelder-Mead\",\n",
    "                     tol=1e-6,\n",
    "                     options={\"disp\": True})\n",
    "\n",
    "lik_model.x"
   ]
  },
  {
   "cell_type": "code",
   "execution_count": 9,
   "id": "60fccc9c",
   "metadata": {},
   "outputs": [
    {
     "data": {
      "text/plain": [
       "array([[-4.00000000e+00, -3.80000000e+00, -3.60000000e+00,\n",
       "        -3.20000000e+00, -2.80000000e+00, -2.00000000e+00,\n",
       "        -1.20000000e+00,  4.00000000e-01,  2.00000000e+00,\n",
       "         3.60000000e+00,  2.80000000e+00,  3.00000000e+00,\n",
       "         2.95000000e+00,  2.97500000e+00,  2.97343750e+00,\n",
       "         2.97382813e+00,  2.97373047e+00,  2.97375488e+00,\n",
       "         2.97374268e+00,  2.97374878e+00,  2.97374725e+00,\n",
       "         2.97374802e+00],\n",
       "       [ 4.07552281e+03,  3.90367912e+03,  3.73683542e+03,\n",
       "         3.41814804e+03,  3.11946065e+03,  2.58208588e+03,\n",
       "         2.12471111e+03,  1.44996157e+03,  1.09521203e+03,\n",
       "         1.06046249e+03,  1.03783726e+03,  1.03599357e+03,\n",
       "         1.03598575e+03,  1.03595060e+03,  1.03595050e+03,\n",
       "         1.03595050e+03,  1.03595050e+03,  1.03595050e+03,\n",
       "         1.03595050e+03,  1.03595050e+03,  1.03595050e+03,\n",
       "         1.03595050e+03]])"
      ]
     },
     "execution_count": 9,
     "metadata": {},
     "output_type": "execute_result"
    }
   ],
   "source": [
    "test = np.array((lik_sim.decreasing_list_calls_inp, lik_sim.decreasing_list_calls_res))\n",
    "\n",
    "test"
   ]
  },
  {
   "cell_type": "code",
   "execution_count": 12,
   "id": "836ba861",
   "metadata": {},
   "outputs": [
    {
     "data": {
      "text/plain": [
       "Text(0.5, 0, 'Mean value: $\\\\mu$')"
      ]
     },
     "execution_count": 12,
     "metadata": {},
     "output_type": "execute_result"
    },
    {
     "data": {
      "image/png": "[encoded data removed]",
      "text/plain": [
       "<Figure size 432x288 with 1 Axes>"
      ]
     },
     "metadata": {
      "needs_background": "light"
     },
     "output_type": "display_data"
    }
   ],
   "source": [
    "mu = np.arange(-5, 5, 0.01)\n",
    "likelihood_values = []\n",
    "\n",
    "for val in mu:\n",
    "    likelihood_values.append(likelihood(val, sample))\n",
    "     \n",
    "plt.plot(mu, likelihood_values)\n",
    "plt.plot(test[0], test[1], 'rx')\n",
    "plt.plot(lik_model.x, lik_model.fun, 'ko')\n",
    "\n",
    "plt.ylabel(\"Likelihood $\\mathcal{L}(\\mu | \\sigma^{2}, x)$\")\n",
    "plt.xlabel(\"Mean value: $\\mu$\")"
   ]
  },
  {
   "cell_type": "markdown",
   "id": "3c25bf9d",
   "metadata": {},
   "source": [
    "## Setting $\\mu$ to be a function of some parameters $a$, $b$\n",
    "\n",
    "Let $\\mu(a, b) = ax^{2} + bx^{2}$"
   ]
  },
  {
   "cell_type": "code",
   "execution_count": 65,
   "id": "6af2a486",
   "metadata": {},
   "outputs": [],
   "source": [
    "def model(params, x):\n",
    "    x, y = params\n",
    "    return ((x + 2*y - 7)**2 + (2*x + y - 5)**2)"
   ]
  },
  {
   "cell_type": "code",
   "execution_count": 66,
   "id": "9ac59de2",
   "metadata": {},
   "outputs": [],
   "source": [
    "# define the univariate Gaussian likelihood\n",
    "def likelihood(params, x):\n",
    "    mu = model(params, x)\n",
    "    sigma = 2\n",
    "    n = len(x)\n",
    "    L = (n/2)*np.log(2*np.pi)+(n/2)*np.log(sigma**2)+(1/(2*sigma**2))*sum((x-mu)**2)\n",
    "    return L"
   ]
  },
  {
   "cell_type": "code",
   "execution_count": 67,
   "id": "0874491a",
   "metadata": {},
   "outputs": [
    {
     "data": {
      "text/plain": [
       "<matplotlib.colorbar.Colorbar at 0x7f4243431f90>"
      ]
     },
     "execution_count": 67,
     "metadata": {},
     "output_type": "execute_result"
    },
    {
     "data": {
      "image/png": "[encoded data removed]",
      "text/plain": [
       "<Figure size 432x288 with 2 Axes>"
      ]
     },
     "metadata": {
      "needs_background": "light"
     },
     "output_type": "display_data"
    }
   ],
   "source": [
    "a = np.arange(-10, 10, .1)\n",
    "b = np.arange(-10, 10, .1)\n",
    "\n",
    "aa, bb = np.meshgrid(a, b, indexing='ij')\n",
    "\n",
    "values = np.array((aa, bb)).T.reshape(-1, 2)\n",
    "\n",
    "likelihood_values = np.zeros(values.shape[0])\n",
    "\n",
    "for idx, val in enumerate(values):\n",
    "    likelihood_values[idx] = likelihood(val, sample)\n",
    "    \n",
    "likelihood_values\n",
    "\n",
    "contours = plt.contour(aa, bb, likelihood_values.reshape(aa.shape), 10)\n",
    "plt.clabel(contours, inline=1, fontsize=12)\n",
    "plt.ylabel(\"b\")\n",
    "plt.xlabel(\"a\")\n",
    "plt.colorbar()"
   ]
  },
  {
   "cell_type": "code",
   "execution_count": 62,
   "id": "e9b95e56",
   "metadata": {},
   "outputs": [
    {
     "ename": "NameError",
     "evalue": "name 'likelihood_sim' is not defined",
     "output_type": "error",
     "traceback": [
      "\u001b[0;31m---------------------------------------------------------------------------\u001b[0m",
      "\u001b[0;31mNameError\u001b[0m                                 Traceback (most recent call last)",
      "Input \u001b[0;32mIn [62]\u001b[0m, in \u001b[0;36m<cell line: 1>\u001b[0;34m()\u001b[0m\n\u001b[0;32m----> 1\u001b[0m \u001b[43mlikelihood_sim\u001b[49m\u001b[38;5;241m.\u001b[39mlist_calls_inp\n",
      "\u001b[0;31mNameError\u001b[0m: name 'likelihood_sim' is not defined"
     ]
    }
   ],
   "source": [
    "likelihood_sim.list_calls_inp"
   ]
  },
  {
   "cell_type": "code",
   "execution_count": 46,
   "id": "9c9dde3f",
   "metadata": {},
   "outputs": [
    {
     "ename": "IndexError",
     "evalue": "index 1 is out of bounds for axis 0 with size 1",
     "output_type": "error",
     "traceback": [
      "\u001b[0;31m---------------------------------------------------------------------------\u001b[0m",
      "\u001b[0;31mIndexError\u001b[0m                                Traceback (most recent call last)",
      "Input \u001b[0;32mIn [46]\u001b[0m, in \u001b[0;36m<cell line: 5>\u001b[0;34m()\u001b[0m\n\u001b[1;32m      3\u001b[0m plt\u001b[38;5;241m.\u001b[39mxlabel(\u001b[38;5;124m\"\u001b[39m\u001b[38;5;124ma\u001b[39m\u001b[38;5;124m\"\u001b[39m)\n\u001b[1;32m      4\u001b[0m plt\u001b[38;5;241m.\u001b[39mplot(test[\u001b[38;5;241m0\u001b[39m], test[\u001b[38;5;241m1\u001b[39m], \u001b[38;5;124m'\u001b[39m\u001b[38;5;124mbo\u001b[39m\u001b[38;5;124m'\u001b[39m)\n\u001b[0;32m----> 5\u001b[0m plt\u001b[38;5;241m.\u001b[39mplot(lik_model\u001b[38;5;241m.\u001b[39mx[\u001b[38;5;241m0\u001b[39m], \u001b[43mlik_model\u001b[49m\u001b[38;5;241;43m.\u001b[39;49m\u001b[43mx\u001b[49m\u001b[43m[\u001b[49m\u001b[38;5;241;43m1\u001b[39;49m\u001b[43m]\u001b[49m, \u001b[38;5;124m'\u001b[39m\u001b[38;5;124mko\u001b[39m\u001b[38;5;124m'\u001b[39m, label\u001b[38;5;241m=\u001b[39m\u001b[38;5;124mf\u001b[39m\u001b[38;5;124m\"\u001b[39m\u001b[38;5;124mmu(a=\u001b[39m\u001b[38;5;132;01m{\u001b[39;00mlik_model\u001b[38;5;241m.\u001b[39mx[\u001b[38;5;241m0\u001b[39m]\u001b[38;5;132;01m:\u001b[39;00m\u001b[38;5;124m.2f\u001b[39m\u001b[38;5;132;01m}\u001b[39;00m\u001b[38;5;124m, b=\u001b[39m\u001b[38;5;132;01m{\u001b[39;00mlik_model\u001b[38;5;241m.\u001b[39mx[\u001b[38;5;241m1\u001b[39m]\u001b[38;5;132;01m:\u001b[39;00m\u001b[38;5;124m.2f\u001b[39m\u001b[38;5;132;01m}\u001b[39;00m\u001b[38;5;124m)\u001b[39m\u001b[38;5;124m\"\u001b[39m)\n\u001b[1;32m      6\u001b[0m plt\u001b[38;5;241m.\u001b[39mlegend()\n\u001b[1;32m      7\u001b[0m plt\u001b[38;5;241m.\u001b[39mcolorbar()\n",
      "\u001b[0;31mIndexError\u001b[0m: index 1 is out of bounds for axis 0 with size 1"
     ]
    },
    {
     "data": {
      "image/png": "[encoded data removed]",
      "text/plain": [
       "<Figure size 432x288 with 1 Axes>"
      ]
     },
     "metadata": {
      "needs_background": "light"
     },
     "output_type": "display_data"
    }
   ],
   "source": [
    "plt.contour(aa, bb, likelihood_values.reshape(aa.shape), 20)\n",
    "plt.ylabel(\"b\")\n",
    "plt.xlabel(\"a\")\n",
    "plt.plot(test[0], test[1], 'bo')\n",
    "plt.plot(lik_model.x[0], lik_model.x[1], 'ko', label=f\"mu(a={lik_model.x[0]:.2f}, b={lik_model.x[1]:.2f})\")\n",
    "plt.legend()\n",
    "plt.colorbar()"
   ]
  },
  {
   "cell_type": "code",
   "execution_count": 50,
   "id": "cb6c81af",
   "metadata": {},
   "outputs": [
    {
     "name": "stdout",
     "output_type": "stream",
     "text": [
      "[0.37226157 0.1536129 ]\n"
     ]
    },
    {
     "ename": "NameError",
     "evalue": "name 'nfev' is not defined",
     "output_type": "error",
     "traceback": [
      "\u001b[0;31m---------------------------------------------------------------------------\u001b[0m",
      "\u001b[0;31mNameError\u001b[0m                                 Traceback (most recent call last)",
      "Input \u001b[0;32mIn [50]\u001b[0m, in \u001b[0;36m<cell line: 10>\u001b[0;34m()\u001b[0m\n\u001b[1;32m      7\u001b[0m     \u001b[38;5;28mprint\u001b[39m(\u001b[38;5;124mf\u001b[39m\u001b[38;5;124m\"\u001b[39m\u001b[38;5;132;01m{\u001b[39;00mnfev\u001b[38;5;132;01m}\u001b[39;00m\u001b[38;5;124m, \u001b[39m\u001b[38;5;132;01m{\u001b[39;00mXi[\u001b[38;5;241m0\u001b[39m]\u001b[38;5;132;01m}\u001b[39;00m\u001b[38;5;124m, \u001b[39m\u001b[38;5;132;01m{\u001b[39;00mXi[\u001b[38;5;241m1\u001b[39m]\u001b[38;5;132;01m}\u001b[39;00m\u001b[38;5;124m\"\u001b[39m)\n\u001b[1;32m      8\u001b[0m     Nfeval \u001b[38;5;241m+\u001b[39m\u001b[38;5;241m=\u001b[39m \u001b[38;5;241m1\u001b[39m\n\u001b[0;32m---> 10\u001b[0m lik_model \u001b[38;5;241m=\u001b[39m \u001b[43mminimize\u001b[49m\u001b[43m(\u001b[49m\u001b[43mlikelihood\u001b[49m\u001b[43m,\u001b[49m\u001b[43m \u001b[49m\u001b[43mx0\u001b[49m\u001b[38;5;241;43m=\u001b[39;49m\u001b[43minitial_guess\u001b[49m\u001b[43m,\u001b[49m\n\u001b[1;32m     11\u001b[0m \u001b[43m                     \u001b[49m\u001b[43margs\u001b[49m\u001b[38;5;241;43m=\u001b[39;49m\u001b[43m(\u001b[49m\u001b[43msample\u001b[49m\u001b[43m)\u001b[49m\u001b[43m,\u001b[49m\n\u001b[1;32m     12\u001b[0m \u001b[43m                     \u001b[49m\u001b[43mmethod\u001b[49m\u001b[38;5;241;43m=\u001b[39;49m\u001b[38;5;124;43m\"\u001b[39;49m\u001b[38;5;124;43mNelder-Mead\u001b[39;49m\u001b[38;5;124;43m\"\u001b[39;49m\u001b[43m,\u001b[49m\n\u001b[1;32m     13\u001b[0m \u001b[43m                     \u001b[49m\u001b[43mtol\u001b[49m\u001b[38;5;241;43m=\u001b[39;49m\u001b[38;5;241;43m1e-6\u001b[39;49m\u001b[43m,\u001b[49m\n\u001b[1;32m     14\u001b[0m \u001b[43m                     \u001b[49m\u001b[43mcallback\u001b[49m\u001b[38;5;241;43m=\u001b[39;49m\u001b[43mcallback_function\u001b[49m\u001b[43m,\u001b[49m\n\u001b[1;32m     15\u001b[0m \u001b[43m                     \u001b[49m\u001b[43moptions\u001b[49m\u001b[38;5;241;43m=\u001b[39;49m\u001b[43m{\u001b[49m\u001b[38;5;124;43m\"\u001b[39;49m\u001b[38;5;124;43mdisp\u001b[39;49m\u001b[38;5;124;43m\"\u001b[39;49m\u001b[43m:\u001b[49m\u001b[43m \u001b[49m\u001b[38;5;28;43;01mTrue\u001b[39;49;00m\u001b[43m}\u001b[49m\u001b[43m)\u001b[49m\n\u001b[1;32m     17\u001b[0m lik_model\u001b[38;5;241m.\u001b[39mx\n",
      "File \u001b[0;32m~/miniconda3/envs/minimise/lib/python3.10/site-packages/scipy/optimize/_minimize.py:680\u001b[0m, in \u001b[0;36mminimize\u001b[0;34m(fun, x0, args, method, jac, hess, hessp, bounds, constraints, tol, callback, options)\u001b[0m\n\u001b[1;32m    677\u001b[0m     bounds \u001b[38;5;241m=\u001b[39m standardize_bounds(bounds, x0, meth)\n\u001b[1;32m    679\u001b[0m \u001b[38;5;28;01mif\u001b[39;00m meth \u001b[38;5;241m==\u001b[39m \u001b[38;5;124m'\u001b[39m\u001b[38;5;124mnelder-mead\u001b[39m\u001b[38;5;124m'\u001b[39m:\n\u001b[0;32m--> 680\u001b[0m     res \u001b[38;5;241m=\u001b[39m \u001b[43m_minimize_neldermead\u001b[49m\u001b[43m(\u001b[49m\u001b[43mfun\u001b[49m\u001b[43m,\u001b[49m\u001b[43m \u001b[49m\u001b[43mx0\u001b[49m\u001b[43m,\u001b[49m\u001b[43m \u001b[49m\u001b[43margs\u001b[49m\u001b[43m,\u001b[49m\u001b[43m \u001b[49m\u001b[43mcallback\u001b[49m\u001b[43m,\u001b[49m\u001b[43m \u001b[49m\u001b[43mbounds\u001b[49m\u001b[38;5;241;43m=\u001b[39;49m\u001b[43mbounds\u001b[49m\u001b[43m,\u001b[49m\n\u001b[1;32m    681\u001b[0m \u001b[43m                               \u001b[49m\u001b[38;5;241;43m*\u001b[39;49m\u001b[38;5;241;43m*\u001b[39;49m\u001b[43moptions\u001b[49m\u001b[43m)\u001b[49m\n\u001b[1;32m    682\u001b[0m \u001b[38;5;28;01melif\u001b[39;00m meth \u001b[38;5;241m==\u001b[39m \u001b[38;5;124m'\u001b[39m\u001b[38;5;124mpowell\u001b[39m\u001b[38;5;124m'\u001b[39m:\n\u001b[1;32m    683\u001b[0m     res \u001b[38;5;241m=\u001b[39m _minimize_powell(fun, x0, args, callback, bounds, \u001b[38;5;241m*\u001b[39m\u001b[38;5;241m*\u001b[39moptions)\n",
      "File \u001b[0;32m~/miniconda3/envs/minimise/lib/python3.10/site-packages/scipy/optimize/_optimize.py:878\u001b[0m, in \u001b[0;36m_minimize_neldermead\u001b[0;34m(func, x0, args, callback, maxiter, maxfev, disp, return_all, initial_simplex, xatol, fatol, adaptive, bounds, **unknown_options)\u001b[0m\n\u001b[1;32m    876\u001b[0m fsim \u001b[38;5;241m=\u001b[39m np\u001b[38;5;241m.\u001b[39mtake(fsim, ind, \u001b[38;5;241m0\u001b[39m)\n\u001b[1;32m    877\u001b[0m \u001b[38;5;28;01mif\u001b[39;00m callback \u001b[38;5;129;01mis\u001b[39;00m \u001b[38;5;129;01mnot\u001b[39;00m \u001b[38;5;28;01mNone\u001b[39;00m:\n\u001b[0;32m--> 878\u001b[0m     \u001b[43mcallback\u001b[49m\u001b[43m(\u001b[49m\u001b[43msim\u001b[49m\u001b[43m[\u001b[49m\u001b[38;5;241;43m0\u001b[39;49m\u001b[43m]\u001b[49m\u001b[43m)\u001b[49m\n\u001b[1;32m    879\u001b[0m \u001b[38;5;28;01mif\u001b[39;00m retall:\n\u001b[1;32m    880\u001b[0m     allvecs\u001b[38;5;241m.\u001b[39mappend(sim[\u001b[38;5;241m0\u001b[39m])\n",
      "Input \u001b[0;32mIn [50]\u001b[0m, in \u001b[0;36mcallback_function\u001b[0;34m(Xi)\u001b[0m\n\u001b[1;32m      5\u001b[0m \u001b[38;5;28;01mdef\u001b[39;00m \u001b[38;5;21mcallback_function\u001b[39m(Xi):\n\u001b[1;32m      6\u001b[0m     \u001b[38;5;28;01mglobal\u001b[39;00m nfev\n\u001b[0;32m----> 7\u001b[0m     \u001b[38;5;28mprint\u001b[39m(\u001b[38;5;124mf\u001b[39m\u001b[38;5;124m\"\u001b[39m\u001b[38;5;132;01m{\u001b[39;00mnfev\u001b[38;5;132;01m}\u001b[39;00m\u001b[38;5;124m, \u001b[39m\u001b[38;5;132;01m{\u001b[39;00mXi[\u001b[38;5;241m0\u001b[39m]\u001b[38;5;132;01m}\u001b[39;00m\u001b[38;5;124m, \u001b[39m\u001b[38;5;132;01m{\u001b[39;00mXi[\u001b[38;5;241m1\u001b[39m]\u001b[38;5;132;01m}\u001b[39;00m\u001b[38;5;124m\"\u001b[39m)\n\u001b[1;32m      8\u001b[0m     Nfeval \u001b[38;5;241m+\u001b[39m\u001b[38;5;241m=\u001b[39m \u001b[38;5;241m1\u001b[39m\n",
      "\u001b[0;31mNameError\u001b[0m: name 'nfev' is not defined"
     ]
    }
   ],
   "source": [
    "initial_guess = rng.random(2)\n",
    "\n",
    "print(initial_guess)\n",
    "\n",
    "def callback_function(Xi):\n",
    "    global nfev\n",
    "    print(f\"{nfev}, {Xi[0]}, {Xi[1]}\")\n",
    "    Nfeval += 1\n",
    "\n",
    "lik_model = minimize(likelihood, x0=initial_guess,\n",
    "                     args=(sample),\n",
    "                     method=\"Nelder-Mead\",\n",
    "                     tol=1e-6,\n",
    "                     callback=callback_function,\n",
    "                     options={\"disp\": True})\n",
    "\n",
    "lik_model.x"
   ]
  },
  {
   "cell_type": "code",
   "execution_count": null,
   "id": "1207047c",
   "metadata": {},
   "outputs": [],
   "source": [
    "plt.contour(aa, bb, likelihood_values.reshape(aa.shape), 20)\n",
    "plt.ylabel(\"b\")\n",
    "plt.xlabel(\"a\")\n",
    "plt.plot(lik_model.x[0], lik_model.x[1], 'ko', label=f\"mu(a={lik_model.x[0]:.2f}, b={lik_model.x[1]:.2f})\")\n",
    "plt.legend()\n",
    "plt.colorbar()"
   ]
  },
  {
   "cell_type": "code",
   "execution_count": null,
   "id": "2fcbf3fe",
   "metadata": {},
   "outputs": [],
   "source": [
    "test = np.array([])\n",
    "\n",
    "print(test)\n",
    "\n",
    "test = np.append(test, 3)\n",
    "\n",
    "print(test)"
   ]
  },
  {
   "cell_type": "code",
   "execution_count": null,
   "id": "9560a6ee",
   "metadata": {},
   "outputs": [],
   "source": []
  },
  {
   "cell_type": "code",
   "execution_count": null,
   "id": "5cd9370d",
   "metadata": {
    "scrolled": true
   },
   "outputs": [],
   "source": [
    "# class Simulator:\n",
    "#     def __init__(self, objective):\n",
    "#         self.objective = objective # define objective function\n",
    "#         self.call_count = 0 # how many times the objective function has been called\n",
    "#         self.callback_count = 0 # number of times callback has been called, also measures iteration count\n",
    "#         self.list_calls_inp = [] # parameter inputs for all calls\n",
    "#         self.list_calls_res = [] # loss value output for all calls\n",
    "#         self.decreasing_list_calls_inp = [] # parameter inputs that resulted in decrease\n",
    "#         self.decreasing_list_calls_res = [] # loss value outputs that resulted in decrease\n",
    "#         self.list_callback_inp = [] # only appends inputs on callback, as such they correspond to the iterations\n",
    "#         self.list_callback_res = [] # only appends results on callback, as such they correspond to the iterations\n",
    "\n",
    "#     def simulate(self, x, *args):\n",
    "#         \"\"\"\n",
    "#             Executes the simulation.\n",
    "#             Returns the result and updates the lists for the callback.\n",
    "#             Pass to the optimiser as the objective function.\n",
    "#         \"\"\"\n",
    "#         result = self.objective(x, *args) # evaluate the objective function\n",
    "#         if not self.call_count: # first call is stored in all lists\n",
    "#             self.decreasing_list_calls_inp.append(x[0])\n",
    "#             self.decreasing_list_calls_res.append(result)\n",
    "#             self.list_callback_inp.append(x)\n",
    "#             self.list_callback_res.append(result)\n",
    "#         elif result < self.decreasing_list_calls_res[-1]:\n",
    "#             self.decreasing_list_calls_inp.append(x[0])\n",
    "#             self.decreasing_list_calls_res.append(result)\n",
    "#         self.list_calls_inp.append(x[0])\n",
    "#         self.list_calls_res.append(result)\n",
    "#         self.call_count += 1\n",
    "#         return result\n",
    "    \n",
    "#     def callback(self, xk, *_):\n",
    "#         s1 = \"\"\n",
    "#         xk = np.atleast_1d(xk)\n",
    "#         for i, x in reversed(list(enumerate(self.list_calls_inp))):\n",
    "#             x = np.atleast_1d(x)\n",
    "#             if np.allclose(x, xk):\n",
    "#                 break\n",
    "\n",
    "#         for comp in xk:\n",
    "#             s1 += f\"{comp:10.5e}\\t\"\n",
    "#         s1 += f\"{self.list_calls_res[i]:10.5e}\"\n",
    "\n",
    "#         self.list_callback_inp.append(xk)\n",
    "#         self.list_callback_res.append(self.list_calls_res[i])\n",
    "\n",
    "#         if not self.callback_count:\n",
    "#             s0 = \"\"\n",
    "#             for j, _ in enumerate(xk):\n",
    "#                 tmp = f\"Comp-{j+1}\"\n",
    "#                 s0 += f\"{tmp:10s}\\t\"\n",
    "#             s0 += \"Objective\"\n",
    "#             print(s0)\n",
    "#         print(s1)\n",
    "#         self.callback_count += 1\n",
    "\n",
    "        \n",
    "# likelihood_sim = Simulator(likelihood)\n",
    "# minimize(likelihood_sim.simulate,\n",
    "#          x0=initial_guess,\n",
    "#          args=sample,\n",
    "#          method=\"Nelder-Mead\",\n",
    "#          options={\"disp\": True})"
   ]
  }
 ],
 "metadata": {
  "kernelspec": {
   "display_name": "Python 3 (ipykernel)",
   "language": "python",
   "name": "python3"
  },
  "language_info": {
   "codemirror_mode": {
    "name": "ipython",
    "version": 3
   },
   "file_extension": ".py",
   "mimetype": "text/x-python",
   "name": "python",
   "nbconvert_exporter": "python",
   "pygments_lexer": "ipython3",
   "version": "3.10.4"
  }
 },
 "nbformat": 4,
 "nbformat_minor": 5
}
