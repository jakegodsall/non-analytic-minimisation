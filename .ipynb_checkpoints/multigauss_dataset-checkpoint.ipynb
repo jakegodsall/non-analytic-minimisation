{
 "cells": [
  {
   "cell_type": "markdown",
   "id": "150c5bd7",
   "metadata": {},
   "source": [
    "# Multivariate Gaussian"
   ]
  },
  {
   "cell_type": "markdown",
   "id": "9de81f0d",
   "metadata": {},
   "source": [
    "## Background\n",
    "\n",
    "### Probability Density Function\n",
    "\n",
    "The pdf for the multivariate Gaussian distribution is given by:\n",
    "\n",
    "$$f(\\vec{x}|\\vec{\\mu}, \\Sigma) = (2\\pi)^{-\\frac{k}{2}}\\det(\\Sigma)^{-\\frac{1}{2}}e^{-\\frac{1}{2}(\\vec{x} - \\vec{\\mu})^{T}\\Sigma^{-1}(\\vec{x}-\\vec{\\mu})}$$\n",
    "\n",
    "where\n",
    "\n",
    "$\\vec{\\mu} \\in \\mathbb{R}^{k}$ is the expected value vector\n",
    "\n",
    "$\\Sigma \\in \\mathbb{R}^{k \\times k}$ is the covariance matrix"
   ]
  },
  {
   "cell_type": "markdown",
   "id": "a3902f55",
   "metadata": {},
   "source": [
    "### Likelihood function\n",
    "\n",
    "The likelihood function for a general distribution of independent random variables is defined as:\n",
    "\n",
    "$$\\mathcal{L}(\\theta | \\vec{x}) = \\prod_{i = 1}^{n} f(x_{i}|\\theta)$$\n",
    "\n",
    "Thus, for the multivariate Gaussian:\n",
    "\n",
    "$$\\mathcal{L}(\\vec{\\mu}, \\Sigma | \\vec{x}) = (2\\pi)^{-\\frac{nk}{2}}\\det(\\Sigma)^{-\\frac{n}{2}}e^{-\\frac{1}{2}\\sum_{i=1}^{n}(x_{i} - \\vec{\\mu})^{T}\\Sigma^{-1}(x_{i}-\\vec{\\mu})}$$\n",
    "\n",
    "Taking the natural logarithm of both sides:\n",
    "\n",
    "$$l(\\vec{\\mu}, \\Sigma) = -\\frac{1}{2}[nk\\ln(2\\pi) + n\\ln(\\det(\\Sigma^{-1})) + \\sum_{i = 1}^{n}(\\vec{x} - \\vec{\\mu})^{T}\\Sigma^{-1}(\\vec{x}-\\vec{\\mu})]$$"
   ]
  },
  {
   "cell_type": "markdown",
   "id": "80bf438d",
   "metadata": {},
   "source": [
    "Further, we can define the Mahalanobis distance between point $\\vec{x}$ and the expected value vector $\\vec{\\mu}$\n",
    "\n",
    "$$\\text{MD}(\\vec{x}|\\vec{\\mu}, \\Sigma) = ((\\vec{x} - \\vec{\\mu})^{T}\\Sigma^{-1}(\\vec{x}-\\vec{\\mu}))^{\\frac{1}{2}}$$\n",
    "\n",
    "If we take the natural logarithm of the pdf, we have:\n",
    "\n",
    "$$\\ln(f(\\vec{x}, \\vec{\\mu}, \\Sigma) = -\\frac{1}{2}[d\\ln(2\\pi) + \\ln(\\det(\\Sigma^{-1})) + \\text{MD}(\\vec{x} | \\vec{\\mu}, \\Sigma)^{2}]$$\n",
    "\n",
    "Therefore, we can optimise for $\\hat{\\theta}$ and $\\hat{\\Sigma}$ by maximising the log function, or minimising the negative log function: \n",
    "\n",
    "$$\\ln(f(\\vec{x}, \\vec{\\mu}, \\Sigma) = \\frac{1}{2}[d\\ln(2\\pi) + \\ln(\\det(\\Sigma^{-1})) + \\text{MD}(\\vec{x} | \\vec{\\mu}, \\Sigma)^{2}]$$\n"
   ]
  },
  {
   "cell_type": "markdown",
   "id": "cc834c7c",
   "metadata": {},
   "source": [
    "### Maximum likelihood estimation\n",
    "\n",
    "We can determine the parameters $\\hat{\\mu}$ and $\\hat{\\Sigma}$ analytically, by taking the partial derivatives with respect to $\\vec{\\mu}$ and $\\Sigma$, setting equal to zero and solving for the parameters.\n",
    "\n",
    "In the end, we get:\n",
    "\n",
    "$$\\hat{\\mu} = \\frac{1}{m}\\sum_{i = 1}^{m} x^{(i)} = \\bar{x}$$\n",
    "\n",
    "$$\\hat{\\Sigma} = \\frac{1}{m} \\sum_{i = 1}^{m} (x^{(i)} - \\hat{\\mu})(x^{(i)} - \\hat{\\mu})^{T}$$\n",
    "\n",
    "This will be the baseline towards which we will measure the accuracy of minimisation techniques."
   ]
  },
  {
   "cell_type": "markdown",
   "id": "03419654",
   "metadata": {},
   "source": [
    "## Modelling"
   ]
  },
  {
   "cell_type": "code",
   "execution_count": 1,
   "id": "66f8240c",
   "metadata": {},
   "outputs": [],
   "source": [
    "# import necessary packages\n",
    "import numpy as np\n",
    "import matplotlib.pyplot as plt\n",
    "import seaborn as sns\n",
    "\n",
    "from scipy.stats import multivariate_normal"
   ]
  },
  {
   "cell_type": "code",
   "execution_count": 2,
   "id": "fe2f70c4",
   "metadata": {},
   "outputs": [
    {
     "name": "stdout",
     "output_type": "stream",
     "text": [
      "x shape: (100, 2)\n",
      "mu shape: (2,)\n",
      "cov shape: (2, 2)\n",
      "inverse cov shape: (2, 2)\n",
      "x - mu shape: (100, 2)\n"
     ]
    }
   ],
   "source": [
    "# instantiate a random number generator\n",
    "rng = np.random.default_rng(100)\n",
    "\n",
    "# define mu and sigma for the dummy sample\n",
    "mu = np.array([0, 0])\n",
    "cov = np.array([[1, 0.5],\n",
    "                [0.5, 1]])\n",
    "\n",
    "x = rng.multivariate_normal(mu, cov, size=100)\n",
    "\n",
    "print(f\"x shape: {x.shape}\")\n",
    "print(f\"mu shape: {mu.shape}\")\n",
    "print(f\"cov shape: {cov.shape}\")\n",
    "print(f\"inverse cov shape: {np.linalg.inv(cov).shape}\")\n",
    "\n",
    "print(f\"x - mu shape: {(x - mu).shape}\")"
   ]
  },
  {
   "cell_type": "code",
   "execution_count": 25,
   "id": "8ce01829",
   "metadata": {},
   "outputs": [],
   "source": [
    "import numpy as np\n",
    "import scipy.stats as stats\n",
    "\n",
    "class MultivariateGaussian:\n",
    "    def __init__(self):\n",
    "        self.mu_ = None\n",
    "        self.covmat_ = None\n",
    "        \n",
    "    @staticmethod\n",
    "    def newxdim(x):\n",
    "        return x[:, np.newaxis] if x.ndim == 2 else x\n",
    "        \n",
    "    def fit(self, x):\n",
    "        x = self.newxdim(x)\n",
    "        self.mu_ = x.mean(0)\n",
    "        print(self.mu_)\n",
    "        self.covmat_ = np.einsum('ijk, ikj->jk', x-self.mu_, x-self.mu_) / x.shape[0]\n",
    "\n",
    "    def pdf(self, x):\n",
    "        x = self.newxdim(x)\n",
    "        k = self.mu_.shape[1]  # number of dimensions\n",
    "        inv_covmat = np.linalg.inv(self.covmat_)  # inverse of the covariance matrix        \n",
    "        mahal = np.einsum('ijk,jl,ilk->ik', x-self.mu_, inv_covmat, x-self.mu_)\n",
    "\n",
    "        scaling = (2*np.pi)**(-k/2)*np.linalg.det(self.covmat_)**(-1/2)\n",
    "        shape = np.exp((-1/2)*mahal)\n",
    "        print((x-self.mu_).shape)\n",
    "\n",
    "        return scaling*shape\n",
    "\n",
    "#     def log_likelihood(self, x):\n",
    "#         x = self.get_row_x(x)\n",
    "#         k = self.mu_.shape[0]  # number of dimensions\n",
    "#         n = x.shape[1]  # number of samples\n",
    "#         inv_cov = np.linalg.inv(self.cov_)  # inverse of the covariance matrix\n",
    "#         diff = x - self.mu_  # deviation of x from the mean\n",
    "#         maha_dist = np.sum(np.tensordot(diff.T, np.dot(inv_cov, diff), 1))\n",
    "\n",
    "#         term1 = n*k*np.log(2*np.pi)\n",
    "#         term2 = n*np.log(np.linalg.det(inv_cov))\n",
    "#         term3 = maha_dist\n",
    "#         return 0.5 * (term1 + term2 + term3)\n"
   ]
  },
  {
   "cell_type": "code",
   "execution_count": 26,
   "id": "ad3cf881",
   "metadata": {},
   "outputs": [
    {
     "name": "stdout",
     "output_type": "stream",
     "text": [
      "[[-0.21709591 -0.29683118]]\n",
      "(1, 2) (2, 2)\n"
     ]
    }
   ],
   "source": [
    "mg = MultivariateGaussian()\n",
    "mg.fit(x)\n",
    "\n",
    "print(mg.mu_.shape, mg.covmat_.shape)"
   ]
  },
  {
   "cell_type": "code",
   "execution_count": 27,
   "id": "fee48e65",
   "metadata": {},
   "outputs": [
    {
     "data": {
      "text/plain": [
       "(100, 2)"
      ]
     },
     "execution_count": 27,
     "metadata": {},
     "output_type": "execute_result"
    }
   ],
   "source": [
    "(x - mg.mu_).shape"
   ]
  },
  {
   "cell_type": "code",
   "execution_count": 28,
   "id": "5f5c13f6",
   "metadata": {},
   "outputs": [
    {
     "name": "stdout",
     "output_type": "stream",
     "text": [
      "(100, 1, 2)\n"
     ]
    },
    {
     "data": {
      "text/plain": [
       "array([[0.08430204, 0.04417168],\n",
       "       [0.12970213, 0.18650279],\n",
       "       [0.15647013, 0.02742569],\n",
       "       [0.12815294, 0.18777493],\n",
       "       [0.0964547 , 0.18266009],\n",
       "       [0.04638165, 0.01335724],\n",
       "       [0.13365963, 0.07708465],\n",
       "       [0.06766791, 0.03049835],\n",
       "       [0.11735149, 0.1093036 ],\n",
       "       [0.12435205, 0.08365087],\n",
       "       [0.02085909, 0.16297067],\n",
       "       [0.12566225, 0.18498976],\n",
       "       [0.12142208, 0.05638334],\n",
       "       [0.08566656, 0.0491052 ],\n",
       "       [0.18781617, 0.18713381],\n",
       "       [0.12445711, 0.17826621],\n",
       "       [0.17907327, 0.18290822],\n",
       "       [0.17664349, 0.16808611],\n",
       "       [0.08421554, 0.11281982],\n",
       "       [0.02890042, 0.18796255],\n",
       "       [0.18197984, 0.17356539],\n",
       "       [0.11511088, 0.04031539],\n",
       "       [0.18783358, 0.18504664],\n",
       "       [0.05441662, 0.18799014],\n",
       "       [0.08211254, 0.03668903],\n",
       "       [0.06106132, 0.05563364],\n",
       "       [0.02619865, 0.11578817],\n",
       "       [0.07823644, 0.17794948],\n",
       "       [0.16508234, 0.06082104],\n",
       "       [0.07987695, 0.18799547],\n",
       "       [0.01388504, 0.0117312 ],\n",
       "       [0.02469908, 0.15606634],\n",
       "       [0.17613562, 0.03517109],\n",
       "       [0.15114755, 0.100139  ],\n",
       "       [0.17695585, 0.1435652 ],\n",
       "       [0.13913087, 0.04935516],\n",
       "       [0.14064336, 0.18407507],\n",
       "       [0.18152364, 0.17182452],\n",
       "       [0.1710997 , 0.15609263],\n",
       "       [0.18747924, 0.12007108],\n",
       "       [0.04049267, 0.1762418 ],\n",
       "       [0.11605869, 0.13892076],\n",
       "       [0.13795869, 0.09976577],\n",
       "       [0.17795004, 0.18785835],\n",
       "       [0.1878497 , 0.03738474],\n",
       "       [0.14441754, 0.15592533],\n",
       "       [0.06972647, 0.0497159 ],\n",
       "       [0.07690155, 0.06269825],\n",
       "       [0.12986531, 0.13806127],\n",
       "       [0.16668723, 0.18317214],\n",
       "       [0.17783786, 0.1828208 ],\n",
       "       [0.16672628, 0.10163674],\n",
       "       [0.09063993, 0.1237078 ],\n",
       "       [0.1585916 , 0.14780315],\n",
       "       [0.10294149, 0.15801696],\n",
       "       [0.18377884, 0.18358338],\n",
       "       [0.17016864, 0.18762761],\n",
       "       [0.18764634, 0.09458428],\n",
       "       [0.12172271, 0.0090225 ],\n",
       "       [0.04242473, 0.14077181],\n",
       "       [0.10492108, 0.13920339],\n",
       "       [0.09993135, 0.11612138],\n",
       "       [0.01717159, 0.17909087],\n",
       "       [0.18488895, 0.15870703],\n",
       "       [0.17131863, 0.14205741],\n",
       "       [0.09005665, 0.00724726],\n",
       "       [0.17397994, 0.16289141],\n",
       "       [0.18612742, 0.14583638],\n",
       "       [0.00141028, 0.05544644],\n",
       "       [0.10373177, 0.13452589],\n",
       "       [0.14851852, 0.07352048],\n",
       "       [0.12964477, 0.08811743],\n",
       "       [0.14591724, 0.13233804],\n",
       "       [0.18066115, 0.1879891 ],\n",
       "       [0.10359265, 0.09879208],\n",
       "       [0.1027396 , 0.15779496],\n",
       "       [0.08598996, 0.10049469],\n",
       "       [0.02570898, 0.18358369],\n",
       "       [0.09853917, 0.0523466 ],\n",
       "       [0.07840736, 0.14375711],\n",
       "       [0.14991263, 0.07516369],\n",
       "       [0.18077549, 0.01275497],\n",
       "       [0.06726198, 0.00520655],\n",
       "       [0.12925139, 0.0225195 ],\n",
       "       [0.12730646, 0.15284827],\n",
       "       [0.15823431, 0.18626939],\n",
       "       [0.13203115, 0.18796095],\n",
       "       [0.13802774, 0.07210733],\n",
       "       [0.18797725, 0.11428362],\n",
       "       [0.12141557, 0.02437119],\n",
       "       [0.13752042, 0.15649331],\n",
       "       [0.18734138, 0.13304167],\n",
       "       [0.18206562, 0.16964621],\n",
       "       [0.0043212 , 0.13025504],\n",
       "       [0.05248365, 0.18596968],\n",
       "       [0.18132213, 0.03707491],\n",
       "       [0.0617894 , 0.00154077],\n",
       "       [0.14804089, 0.16428608],\n",
       "       [0.15168935, 0.18786824],\n",
       "       [0.04450421, 0.05284244]])"
      ]
     },
     "execution_count": 28,
     "metadata": {},
     "output_type": "execute_result"
    }
   ],
   "source": [
    "mg.pdf(x)"
   ]
  },
  {
   "cell_type": "markdown",
   "id": "8b58f9eb",
   "metadata": {},
   "source": [
    "## Plotting contour"
   ]
  },
  {
   "cell_type": "code",
   "execution_count": 29,
   "id": "8b5b369b",
   "metadata": {},
   "outputs": [
    {
     "name": "stdout",
     "output_type": "stream",
     "text": [
      "(100, 2)\n",
      "(100, 100) (100, 100)\n",
      "(10000, 2)\n",
      "(10000,)\n"
     ]
    },
    {
     "data": {
      "text/plain": [
       "<matplotlib.collections.PathCollection at 0x17b89dde0>"
      ]
     },
     "execution_count": 29,
     "metadata": {},
     "output_type": "execute_result"
    },
    {
     "data": {
      "image/png": "[encoded data removed]",
      "text/plain": [
       "<Figure size 432x288 with 1 Axes>"
      ]
     },
     "metadata": {
      "needs_background": "light"
     },
     "output_type": "display_data"
    }
   ],
   "source": [
    "xx, xy = np.meshgrid(*np.linspace(-3, 3, 100)[np.newaxis, :].repeat(2, 0))\n",
    "\n",
    "# Need an (N, 2) array of (x, y) pairs.\n",
    "x_new = np.column_stack([xx.flat, xy.flat])\n",
    "\n",
    "print(x.shape)\n",
    "print(xx.shape, xy.shape)\n",
    "print(x_new.shape)\n",
    "\n",
    "z = multivariate_normal.pdf(x_new, mean=mu, cov=cov)\n",
    "\n",
    "print(z.shape)\n",
    "\n",
    "cs = plt.contour(xx, xy, z.reshape(100, 100))\n",
    "plt.clabel(cs)\n",
    "plt.scatter(*x.T, s=3)"
   ]
  },
  {
   "cell_type": "code",
   "execution_count": 30,
   "id": "9864d06f",
   "metadata": {},
   "outputs": [
    {
     "name": "stdout",
     "output_type": "stream",
     "text": [
      "(100, 2)\n",
      "(100, 100) (100, 100)\n",
      "(10000, 2)\n",
      "(10000, 1, 2)\n"
     ]
    },
    {
     "ename": "ValueError",
     "evalue": "cannot reshape array of size 20000 into shape (100,100)",
     "output_type": "error",
     "traceback": [
      "\u001b[0;31m---------------------------------------------------------------------------\u001b[0m",
      "\u001b[0;31mValueError\u001b[0m                                Traceback (most recent call last)",
      "Input \u001b[0;32mIn [30]\u001b[0m, in \u001b[0;36m<cell line: 12>\u001b[0;34m()\u001b[0m\n\u001b[1;32m      8\u001b[0m \u001b[38;5;28mprint\u001b[39m(x_new\u001b[38;5;241m.\u001b[39mshape)\n\u001b[1;32m     10\u001b[0m z \u001b[38;5;241m=\u001b[39m mg\u001b[38;5;241m.\u001b[39mpdf(x_new)\n\u001b[0;32m---> 12\u001b[0m cs \u001b[38;5;241m=\u001b[39m plt\u001b[38;5;241m.\u001b[39mcontour(xx, xy, \u001b[43mz\u001b[49m\u001b[38;5;241;43m.\u001b[39;49m\u001b[43mreshape\u001b[49m\u001b[43m(\u001b[49m\u001b[38;5;241;43m100\u001b[39;49m\u001b[43m,\u001b[49m\u001b[43m \u001b[49m\u001b[38;5;241;43m100\u001b[39;49m\u001b[43m)\u001b[49m)\n\u001b[1;32m     13\u001b[0m plt\u001b[38;5;241m.\u001b[39mclabel(cs)\n\u001b[1;32m     14\u001b[0m plt\u001b[38;5;241m.\u001b[39mscatter(\u001b[38;5;241m*\u001b[39mx\u001b[38;5;241m.\u001b[39mT)\n",
      "\u001b[0;31mValueError\u001b[0m: cannot reshape array of size 20000 into shape (100,100)"
     ]
    }
   ],
   "source": [
    "xx, xy = np.meshgrid(*np.linspace(-3, 3, 100)[np.newaxis, :].repeat(2, 0))\n",
    "\n",
    "# Need an (N, 2) array of (x, y) pairs.\n",
    "x_new = np.column_stack([xx.flat, xy.flat])\n",
    "\n",
    "print(x.shape)\n",
    "print(xx.shape, xy.shape)\n",
    "print(x_new.shape)\n",
    "\n",
    "z = mg.pdf(x_new)\n",
    "\n",
    "cs = plt.contour(xx, xy, z.reshape(100, 100))\n",
    "plt.clabel(cs)\n",
    "plt.scatter(*x.T)"
   ]
  },
  {
   "cell_type": "code",
   "execution_count": null,
   "id": "7975f10d",
   "metadata": {},
   "outputs": [],
   "source": []
  }
 ],
 "metadata": {
  "kernelspec": {
   "display_name": "Python 3 (ipykernel)",
   "language": "python",
   "name": "python3"
  },
  "language_info": {
   "codemirror_mode": {
    "name": "ipython",
    "version": 3
   },
   "file_extension": ".py",
   "mimetype": "text/x-python",
   "name": "python",
   "nbconvert_exporter": "python",
   "pygments_lexer": "ipython3",
   "version": "3.10.4"
  }
 },
 "nbformat": 4,
 "nbformat_minor": 5
}
