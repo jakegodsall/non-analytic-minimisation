{
 "cells": [
  {
   "cell_type": "markdown",
   "id": "a62c764f",
   "metadata": {},
   "source": [
    "# Univariate Gaussian with Constant Objective Function"
   ]
  },
  {
   "cell_type": "code",
   "execution_count": 1,
   "id": "698c544d",
   "metadata": {},
   "outputs": [],
   "source": [
    "import json\n",
    "\n",
    "import numpy as np\n",
    "import pandas as pd\n",
    "\n",
    "from scipy.optimize import minimize\n",
    "\n",
    "import matplotlib.pyplot as plt\n",
    "import seaborn\n",
    "seaborn.set_style(\"darkgrid\")\n",
    "\n",
    "from src.callback import Simulator\n",
    "from src.output import OutputGenerator"
   ]
  },
  {
   "cell_type": "markdown",
   "id": "956ad865",
   "metadata": {},
   "source": [
    "## Hyperparameters"
   ]
  },
  {
   "cell_type": "code",
   "execution_count": 2,
   "id": "28ce338d",
   "metadata": {},
   "outputs": [],
   "source": [
    "# random number generation\n",
    "random_state = 42\n",
    "mu = 3\n",
    "var = 2\n",
    "sample_size = 500\n",
    "\n",
    "# optimisation\n",
    "initial_guess = -4\n",
    "method = \"Nelder-Mead\""
   ]
  },
  {
   "cell_type": "markdown",
   "id": "d64c86b6",
   "metadata": {},
   "source": [
    "## Generating a sample\n",
    "\n",
    "The probability density function of the univariate Gaussian is given by:\n",
    "\n",
    "$$f(x | \\mu, \\sigma^{2}) = \\frac{1}{\\sqrt{2\\pi \\sigma^{2}}}e^{-\\frac{1}{2\\sigma^{2}}(x - \\mu)^{2}}$$"
   ]
  },
  {
   "cell_type": "code",
   "execution_count": 3,
   "id": "3c0157b1",
   "metadata": {},
   "outputs": [],
   "source": [
    "# set the random seed\n",
    "rng = np.random.default_rng(random_state)\n",
    "\n",
    "# generate a random sample using the numpy function\n",
    "sample = rng.normal(mu, var, sample_size)"
   ]
  },
  {
   "cell_type": "code",
   "execution_count": 4,
   "id": "6e3f9dff",
   "metadata": {},
   "outputs": [
    {
     "name": "stdout",
     "output_type": "stream",
     "text": [
      "[-4.   -3.99 -3.98 ...  9.97  9.98  9.99]\n",
      "Shape: (500,)\n"
     ]
    },
    {
     "data": {
      "text/plain": [
       "[<matplotlib.lines.Line2D at 0x7f7bfc040d60>]"
      ]
     },
     "execution_count": 4,
     "metadata": {},
     "output_type": "execute_result"
    },
    {
     "data": {
      "image/png": "[encoded data removed]",
      "text/plain": [
       "<Figure size 432x288 with 1 Axes>"
      ]
     },
     "metadata": {
      "needs_background": "light"
     },
     "output_type": "display_data"
    }
   ],
   "source": [
    "def pdf(x, mu, var):\n",
    "    \"\"\"\n",
    "        Return a vector (shape of x) of the probabilities\n",
    "        of the values of x\n",
    "    \"\"\"\n",
    "    return 1 / (np.sqrt(2*np.pi*var)) * np.exp(-1/(2*var)*(x - mu)**2)\n",
    "\n",
    "xx = np.arange(-4, 10, 0.01)\n",
    "\n",
    "print(xx)\n",
    "probs = pdf(xx, mu, var)\n",
    "\n",
    "print(f\"Shape: {sample.shape}\")\n",
    "\n",
    "plt.hist(sample, bins=15, density=True);\n",
    "plt.plot(xx, probs, c='red')"
   ]
  },
  {
   "cell_type": "markdown",
   "id": "0f684d24",
   "metadata": {},
   "source": [
    "## Maximum Likelihood Estimation\n",
    "\n",
    "Here we minimise the likelihood function for the univariate Gaussian pdf. This allows us to find the best-fitting parameters.\n",
    "\n",
    "The log-likelihood of the univariate Gaussian is given by:\n",
    "\n",
    "$$\\log \\mathcal{L}(\\mu, \\sigma^{2}| \\vec{x}) = -\\frac{n}{2} \\log (2\\pi) - \\frac{n}{2} \\log \\sigma^{2} - \\frac{1}{2\\sigma^{2}}\\sum_{i = 1}^{n} (x_{i} - \\mu)^{2}$$\n",
    "\n",
    "and hence we want to minimise\n",
    "\n",
    "$$\\hat{\\mu} = -\\text{argmin}_{\\mu} \\log \\mathcal{L}(\\mu, \\sigma^{2} | \\vec{x})$$"
   ]
  },
  {
   "cell_type": "markdown",
   "id": "d6aa6bf2",
   "metadata": {},
   "source": [
    "## Defining the model\n",
    "\n",
    "Here we define a model function which outputs a constant."
   ]
  },
  {
   "cell_type": "code",
   "execution_count": 5,
   "id": "e2aedc2c",
   "metadata": {},
   "outputs": [],
   "source": [
    "def const_model(params, x):\n",
    "    # model paramater is constant\n",
    "    return params"
   ]
  },
  {
   "cell_type": "code",
   "execution_count": 6,
   "id": "22cdaf7f",
   "metadata": {},
   "outputs": [],
   "source": [
    "# define the univariate Gaussian likelihood function\n",
    "def likelihood(params, x):\n",
    "    mu = const_model(params, x)\n",
    "    sigma = 2\n",
    "    n = len(x)\n",
    "    L = (n/2)*np.log(2*np.pi)+(n/2)*np.log(sigma**2)+(1/(2*sigma**2))*sum((x-mu)**2)\n",
    "    return L"
   ]
  },
  {
   "cell_type": "markdown",
   "id": "bedc0bf8",
   "metadata": {},
   "source": [
    "## Evaluating the likelihood function\n",
    "\n",
    "Evaluating the likelihood function over a range of values, we can geometrically approximate the MLE to be zero."
   ]
  },
  {
   "cell_type": "code",
   "execution_count": 7,
   "id": "ced1c500",
   "metadata": {},
   "outputs": [
    {
     "data": {
      "text/plain": [
       "Text(0.5, 0, 'Mean value: $\\\\mu$')"
      ]
     },
     "execution_count": 7,
     "metadata": {},
     "output_type": "execute_result"
    },
    {
     "data": {
      "image/png": "[encoded data removed]",
      "text/plain": [
       "<Figure size 432x288 with 1 Axes>"
      ]
     },
     "metadata": {
      "needs_background": "light"
     },
     "output_type": "display_data"
    }
   ],
   "source": [
    "# range of mu values to test for maximum likelihood\n",
    "mu_values = np.arange(-5, 5, 0.01)\n",
    "# list for storing the likelihood values for each mu value\n",
    "likelihood_values = []\n",
    "\n",
    "# loop through all values of mu and append the likelihood value output to likelihood_values\n",
    "for val in mu_values:\n",
    "    likelihood_values.append(likelihood(val, sample))\n",
    "     \n",
    "# plot the likelihood values\n",
    "plt.plot(mu_values, likelihood_values)\n",
    "plt.ylabel(\"Likelihood $\\mathcal{L}(\\mu | \\sigma^{2}, x)$\")\n",
    "plt.xlabel(\"Mean value: $\\mu$\")"
   ]
  },
  {
   "cell_type": "markdown",
   "id": "59cec2c1",
   "metadata": {},
   "source": [
    "## Minimising the likelihood function using scipy.optimize.minimize\n",
    "\n",
    "Choose -4 as our initial guess for $\\mu$.\n",
    "\n",
    "As we can see in the plot above, $\\text{MLE}_{\\mu} \\approx 3$, so we should see a clear path from left to right across the curve."
   ]
  },
  {
   "cell_type": "code",
   "execution_count": 8,
   "id": "14ce5b3d",
   "metadata": {
    "scrolled": true
   },
   "outputs": [
    {
     "name": "stdout",
     "output_type": "stream",
     "text": [
      "Optimization terminated successfully.\n",
      "         Current function value: 1035.950498\n",
      "         Iterations: 27\n",
      "         Function evaluations: 54\n"
     ]
    },
    {
     "data": {
      "text/plain": [
       "array([2.97374802])"
      ]
     },
     "execution_count": 8,
     "metadata": {},
     "output_type": "execute_result"
    }
   ],
   "source": [
    "# instantiate the simulator class\n",
    "lik_sim = Simulator(likelihood)\n",
    "\n",
    "# minimise the -log(L) function using the wrapper class Simulator\n",
    "lik_model = minimize(lik_sim.simulate, x0=initial_guess,\n",
    "                     args=(sample),\n",
    "                     method=method,\n",
    "                     tol=1e-6,\n",
    "                     options={\"disp\": True})\n",
    "\n",
    "lik_model.x"
   ]
  },
  {
   "cell_type": "code",
   "execution_count": 9,
   "id": "7fc7d9a7",
   "metadata": {
    "scrolled": true
   },
   "outputs": [
    {
     "name": "stdout",
     "output_type": "stream",
     "text": [
      "    parameter   likelihood  iteration\n",
      "0   -4.000000  4075.522809          1\n",
      "1   -3.800000  3903.679117          2\n",
      "2   -3.600000  3736.835424          3\n",
      "3   -3.200000  3418.148039          4\n",
      "4   -2.800000  3119.460654          5\n",
      "..        ...          ...        ...\n",
      "17   2.973755  1035.950498         18\n",
      "18   2.973743  1035.950498         19\n",
      "19   2.973749  1035.950498         20\n",
      "20   2.973747  1035.950498         21\n",
      "21   2.973748  1035.950498         22\n",
      "\n",
      "[22 rows x 3 columns]\n"
     ]
    }
   ],
   "source": [
    "callback = lik_sim.to_dataframe()\n",
    "\n",
    "with pd.option_context('display.max_rows',10):\n",
    "    print(callback)"
   ]
  },
  {
   "cell_type": "code",
   "execution_count": 10,
   "id": "d885985c",
   "metadata": {},
   "outputs": [
    {
     "data": {
      "text/plain": [
       "<matplotlib.legend.Legend at 0x7f7bf9c5a5f0>"
      ]
     },
     "execution_count": 10,
     "metadata": {},
     "output_type": "execute_result"
    },
    {
     "data": {
      "image/png": "[encoded data removed]",
      "text/plain": [
       "<Figure size 432x288 with 1 Axes>"
      ]
     },
     "metadata": {
      "needs_background": "light"
     },
     "output_type": "display_data"
    }
   ],
   "source": [
    "mu = np.arange(-5, 5, 0.01)\n",
    "likelihood_values = []\n",
    "\n",
    "for val in mu:\n",
    "    likelihood_values.append(likelihood(val, sample))\n",
    "     \n",
    "plt.plot(mu, likelihood_values)\n",
    "plt.plot(callback.parameter, callback.likelihood, 'r')\n",
    "plt.plot(callback.parameter, callback.likelihood, 'rx')\n",
    "plt.plot(lik_model.x, lik_model.fun, 'ko', label='MLE')\n",
    "\n",
    "plt.ylabel(\"Likelihood $\\mathcal{L}(\\mu | \\sigma^{2}, x)$\")\n",
    "plt.xlabel(\"Mean value: $\\mu$\")\n",
    "plt.legend()"
   ]
  },
  {
   "cell_type": "code",
   "execution_count": 11,
   "id": "1d27271e",
   "metadata": {},
   "outputs": [
    {
     "name": "stdout",
     "output_type": "stream",
     "text": [
      "{\n",
      "    \"meta_data\": {\n",
      "        \"date\": \"09:18:35 19/07/2022\",\n",
      "        \"method\": \"Nelder-Mead\",\n",
      "        \"number_of_iterations\": 22,\n",
      "        \"objective_function\": \"params\"\n",
      "    },\n",
      "    \"results\": \"{\\\"parameter\\\":{\\\"0\\\":-4.0,\\\"1\\\":-3.8,\\\"2\\\":-3.6,\\\"3\\\":-3.2,\\\"4\\\":-2.8,\\\"5\\\":-2.0,\\\"6\\\":-1.2,\\\"7\\\":0.4,\\\"8\\\":2.0,\\\"9\\\":3.6,\\\"10\\\":2.8,\\\"11\\\":3.0,\\\"12\\\":2.95,\\\"13\\\":2.975,\\\"14\\\":2.9734375,\\\"15\\\":2.973828125,\\\"16\\\":2.9737304688,\\\"17\\\":2.9737548828,\\\"18\\\":2.9737426758,\\\"19\\\":2.9737487793,\\\"20\\\":2.9737472534,\\\"21\\\":2.9737480164},\\\"likelihood\\\":{\\\"0\\\":4075.5228091062,\\\"1\\\":3903.6791166296,\\\"2\\\":3736.8354241529,\\\"3\\\":3418.1480391996,\\\"4\\\":3119.4606542463,\\\"5\\\":2582.0858843397,\\\"6\\\":2124.7111144331,\\\"7\\\":1449.9615746198,\\\"8\\\":1095.2120348066,\\\"9\\\":1060.4624949934,\\\"10\\\":1037.8372649,\\\"11\\\":1035.9935724233,\\\"12\\\":1035.9857455425,\\\"13\\\":1035.9505964829,\\\"14\\\":1035.9505044808,\\\"15\\\":1035.9504988711,\\\"16\\\":1035.9504984854,\\\"17\\\":1035.9504984701,\\\"18\\\":1035.9504984684,\\\"19\\\":1035.9504984669,\\\"20\\\":1035.9504984668,\\\"21\\\":1035.9504984668}}\"\n",
      "}\n"
     ]
    }
   ],
   "source": [
    "og = OutputGenerator(const_model, callback)\n",
    "\n",
    "print(json.dumps(og.return_json(), sort_keys=True, indent=4))"
   ]
  },
  {
   "cell_type": "code",
   "execution_count": null,
   "id": "9358bc22",
   "metadata": {},
   "outputs": [],
   "source": []
  }
 ],
 "metadata": {
  "kernelspec": {
   "display_name": "Python 3 (ipykernel)",
   "language": "python",
   "name": "python3"
  },
  "language_info": {
   "codemirror_mode": {
    "name": "ipython",
    "version": 3
   },
   "file_extension": ".py",
   "mimetype": "text/x-python",
   "name": "python",
   "nbconvert_exporter": "python",
   "pygments_lexer": "ipython3",
   "version": "3.10.4"
  }
 },
 "nbformat": 4,
 "nbformat_minor": 5
}
