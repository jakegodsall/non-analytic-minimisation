{
 "cells": [
  {
   "cell_type": "markdown",
   "id": "a62c764f",
   "metadata": {},
   "source": [
    "# Theory"
   ]
  },
  {
   "cell_type": "code",
   "execution_count": 1,
   "id": "698c544d",
   "metadata": {},
   "outputs": [],
   "source": [
    "import numpy as np\n",
    "\n",
    "from scipy.optimize import minimize\n",
    "\n",
    "import matplotlib.pyplot as plt\n",
    "import seaborn\n",
    "seaborn.set_style(\"darkgrid\")\n",
    "\n",
    "from src.callback import Simulator"
   ]
  },
  {
   "cell_type": "markdown",
   "id": "d3b5d151",
   "metadata": {},
   "source": [
    "# Maximum Likelihood Estimation in one dimension"
   ]
  },
  {
   "cell_type": "markdown",
   "id": "d64c86b6",
   "metadata": {},
   "source": [
    "## Generating a sample\n",
    "\n",
    "The probability density function of the univariate Gaussian is given by:\n",
    "\n",
    "$$f(x | \\mu, \\sigma^{2}) = \\frac{1}{\\sqrt{2\\pi \\sigma^{2}}}e^{-\\frac{1}{2\\sigma^{2}}(x - \\mu)^{2}}$$"
   ]
  },
  {
   "cell_type": "code",
   "execution_count": 2,
   "id": "6e3f9dff",
   "metadata": {},
   "outputs": [
    {
     "name": "stdout",
     "output_type": "stream",
     "text": [
      "[-4.   -3.99 -3.98 ...  9.97  9.98  9.99]\n",
      "Shape: (500,)\n"
     ]
    },
    {
     "data": {
      "text/plain": [
       "[<matplotlib.lines.Line2D at 0x7f5b874585e0>]"
      ]
     },
     "execution_count": 2,
     "metadata": {},
     "output_type": "execute_result"
    },
    {
     "data": {
      "image/png": "[encoded data removed]",
      "text/plain": [
       "<Figure size 432x288 with 1 Axes>"
      ]
     },
     "metadata": {
      "needs_background": "light"
     },
     "output_type": "display_data"
    }
   ],
   "source": [
    "# set the random seed\n",
    "rng = np.random.default_rng(42)\n",
    "# generate a sample of normally distributed random variables with mean mu and variance var\n",
    "mu = 3\n",
    "var = 2\n",
    "# generate a random sample using the numpy function\n",
    "sample = rng.normal(mu, var, 500)\n",
    "\n",
    "def pdf(x, mu, var):\n",
    "    \"\"\"\n",
    "        Return a vector (shape of x) of the probabilities\n",
    "        of the values of x\n",
    "    \"\"\"\n",
    "    return 1 / (np.sqrt(2*np.pi*var)) * np.exp(-1/(2*var)*(x - mu)**2)\n",
    "\n",
    "xx = np.arange(-4, 10, 0.01)\n",
    "\n",
    "print(xx)\n",
    "probs = pdf(xx, mu, var)\n",
    "\n",
    "print(f\"Shape: {sample.shape}\")\n",
    "\n",
    "plt.hist(sample, bins=15, density=True);\n",
    "plt.plot(xx, probs, c='red')"
   ]
  },
  {
   "cell_type": "markdown",
   "id": "0f684d24",
   "metadata": {},
   "source": [
    "## Maximum Likelihood Estimation\n",
    "\n",
    "Here we minimise the likelihood function for the univariate Gaussian pdf. This allows us to find the best-fitting parameters.\n",
    "\n",
    "The log-likelihood of the univariate Gaussian is given by:\n",
    "\n",
    "$$\\log \\mathcal{L}(\\mu, \\sigma^{2}| \\vec{x}) = -\\frac{n}{2} \\log (2\\pi) - \\frac{n}{2} \\log \\sigma^{2} - \\frac{1}{2\\sigma^{2}}\\sum_{i = 1}^{n} (x_{i} - \\mu)^{2}$$\n",
    "\n",
    "and hence we want to minimise\n",
    "\n",
    "$$\\hat{\\mu} = -\\text{argmin}_{\\mu} \\log \\mathcal{L}(\\mu, \\sigma^{2} | \\vec{x})$$"
   ]
  },
  {
   "cell_type": "code",
   "execution_count": 3,
   "id": "22cdaf7f",
   "metadata": {},
   "outputs": [],
   "source": [
    "# define the univariate Gaussian likelihood function\n",
    "def likelihood(params, x):\n",
    "    mu = params\n",
    "    sigma = 2\n",
    "    n = len(x)\n",
    "    L = (n/2)*np.log(2*np.pi)+(n/2)*np.log(sigma**2)+(1/(2*sigma**2))*sum((x-mu)**2)\n",
    "    return L"
   ]
  },
  {
   "cell_type": "markdown",
   "id": "bedc0bf8",
   "metadata": {},
   "source": [
    "## Evaluating the likelihood function\n",
    "\n",
    "Evaluating the likelihood function over a range of values, we can geometrically approximate the MLE to be zero."
   ]
  },
  {
   "cell_type": "code",
   "execution_count": 4,
   "id": "ced1c500",
   "metadata": {},
   "outputs": [
    {
     "data": {
      "text/plain": [
       "Text(0.5, 0, 'Mean value: $\\\\mu$')"
      ]
     },
     "execution_count": 4,
     "metadata": {},
     "output_type": "execute_result"
    },
    {
     "data": {
      "image/png": "[encoded data removed]",
      "text/plain": [
       "<Figure size 432x288 with 1 Axes>"
      ]
     },
     "metadata": {
      "needs_background": "light"
     },
     "output_type": "display_data"
    }
   ],
   "source": [
    "# range of mu values to test for maximum likelihood\n",
    "mu = np.arange(-5, 5, 0.01)\n",
    "# list for storing the likelihood values for each mu value\n",
    "likelihood_values = []\n",
    "\n",
    "# loop through all values of mu and append the likelihood value output to likelihood_values\n",
    "for val in mu:\n",
    "    likelihood_values.append(likelihood(val, sample))\n",
    "     \n",
    "# plot the likelihood values\n",
    "plt.plot(mu, likelihood_values)\n",
    "plt.ylabel(\"Likelihood $\\mathcal{L}(\\mu | \\sigma^{2}, x)$\")\n",
    "plt.xlabel(\"Mean value: $\\mu$\")"
   ]
  },
  {
   "cell_type": "markdown",
   "id": "59cec2c1",
   "metadata": {},
   "source": [
    "## Minimising the likelihood function using scipy.optimize.minimize\n",
    "\n",
    "Choose -4 as our initial guess for $\\mu$.\n",
    "\n",
    "As we can see in the plot above, $\\text{MLE}_{\\mu} \\approx 3$, so we should see a clear path from left to right across the curve."
   ]
  },
  {
   "cell_type": "code",
   "execution_count": 5,
   "id": "14ce5b3d",
   "metadata": {
    "scrolled": true
   },
   "outputs": [
    {
     "name": "stdout",
     "output_type": "stream",
     "text": [
      "Optimization terminated successfully.\n",
      "         Current function value: 1035.950498\n",
      "         Iterations: 27\n",
      "         Function evaluations: 54\n"
     ]
    },
    {
     "data": {
      "text/plain": [
       "array([2.97374802])"
      ]
     },
     "execution_count": 5,
     "metadata": {},
     "output_type": "execute_result"
    }
   ],
   "source": [
    "# choose initial guess to be -4\n",
    "initial_guess = -4\n",
    "\n",
    "# instantiate the simulator class\n",
    "lik_sim = Simulator(likelihood)\n",
    "\n",
    "# minimise the -log(L) function using the wrapper class Simulator\n",
    "lik_model = minimize(lik_sim.simulate, x0=initial_guess,\n",
    "                     args=(sample),\n",
    "                     method=\"Nelder-Mead\",\n",
    "                     tol=1e-6,\n",
    "                     options={\"disp\": True})\n",
    "\n",
    "lik_model.x"
   ]
  },
  {
   "cell_type": "code",
   "execution_count": 6,
   "id": "463feb5a",
   "metadata": {},
   "outputs": [
    {
     "data": {
      "text/html": [
       "<div>\n",
       "<style scoped>\n",
       "    .dataframe tbody tr th:only-of-type {\n",
       "        vertical-align: middle;\n",
       "    }\n",
       "\n",
       "    .dataframe tbody tr th {\n",
       "        vertical-align: top;\n",
       "    }\n",
       "\n",
       "    .dataframe thead th {\n",
       "        text-align: right;\n",
       "    }\n",
       "</style>\n",
       "<table border=\"1\" class=\"dataframe\">\n",
       "  <thead>\n",
       "    <tr style=\"text-align: right;\">\n",
       "      <th></th>\n",
       "      <th>parameter</th>\n",
       "      <th>likelihood</th>\n",
       "      <th>iteration</th>\n",
       "    </tr>\n",
       "  </thead>\n",
       "  <tbody>\n",
       "    <tr>\n",
       "      <th>0</th>\n",
       "      <td>-4.000000</td>\n",
       "      <td>4075.522809</td>\n",
       "      <td>1</td>\n",
       "    </tr>\n",
       "    <tr>\n",
       "      <th>1</th>\n",
       "      <td>-3.800000</td>\n",
       "      <td>3903.679117</td>\n",
       "      <td>2</td>\n",
       "    </tr>\n",
       "    <tr>\n",
       "      <th>2</th>\n",
       "      <td>-3.600000</td>\n",
       "      <td>3736.835424</td>\n",
       "      <td>3</td>\n",
       "    </tr>\n",
       "    <tr>\n",
       "      <th>3</th>\n",
       "      <td>-3.200000</td>\n",
       "      <td>3418.148039</td>\n",
       "      <td>4</td>\n",
       "    </tr>\n",
       "    <tr>\n",
       "      <th>4</th>\n",
       "      <td>-2.800000</td>\n",
       "      <td>3119.460654</td>\n",
       "      <td>5</td>\n",
       "    </tr>\n",
       "    <tr>\n",
       "      <th>5</th>\n",
       "      <td>-2.000000</td>\n",
       "      <td>2582.085884</td>\n",
       "      <td>6</td>\n",
       "    </tr>\n",
       "    <tr>\n",
       "      <th>6</th>\n",
       "      <td>-1.200000</td>\n",
       "      <td>2124.711114</td>\n",
       "      <td>7</td>\n",
       "    </tr>\n",
       "    <tr>\n",
       "      <th>7</th>\n",
       "      <td>0.400000</td>\n",
       "      <td>1449.961575</td>\n",
       "      <td>8</td>\n",
       "    </tr>\n",
       "    <tr>\n",
       "      <th>8</th>\n",
       "      <td>2.000000</td>\n",
       "      <td>1095.212035</td>\n",
       "      <td>9</td>\n",
       "    </tr>\n",
       "    <tr>\n",
       "      <th>9</th>\n",
       "      <td>3.600000</td>\n",
       "      <td>1060.462495</td>\n",
       "      <td>10</td>\n",
       "    </tr>\n",
       "    <tr>\n",
       "      <th>10</th>\n",
       "      <td>2.800000</td>\n",
       "      <td>1037.837265</td>\n",
       "      <td>11</td>\n",
       "    </tr>\n",
       "    <tr>\n",
       "      <th>11</th>\n",
       "      <td>3.000000</td>\n",
       "      <td>1035.993572</td>\n",
       "      <td>12</td>\n",
       "    </tr>\n",
       "    <tr>\n",
       "      <th>12</th>\n",
       "      <td>2.950000</td>\n",
       "      <td>1035.985746</td>\n",
       "      <td>13</td>\n",
       "    </tr>\n",
       "    <tr>\n",
       "      <th>13</th>\n",
       "      <td>2.975000</td>\n",
       "      <td>1035.950596</td>\n",
       "      <td>14</td>\n",
       "    </tr>\n",
       "    <tr>\n",
       "      <th>14</th>\n",
       "      <td>2.973438</td>\n",
       "      <td>1035.950504</td>\n",
       "      <td>15</td>\n",
       "    </tr>\n",
       "    <tr>\n",
       "      <th>15</th>\n",
       "      <td>2.973828</td>\n",
       "      <td>1035.950499</td>\n",
       "      <td>16</td>\n",
       "    </tr>\n",
       "    <tr>\n",
       "      <th>16</th>\n",
       "      <td>2.973730</td>\n",
       "      <td>1035.950498</td>\n",
       "      <td>17</td>\n",
       "    </tr>\n",
       "    <tr>\n",
       "      <th>17</th>\n",
       "      <td>2.973755</td>\n",
       "      <td>1035.950498</td>\n",
       "      <td>18</td>\n",
       "    </tr>\n",
       "    <tr>\n",
       "      <th>18</th>\n",
       "      <td>2.973743</td>\n",
       "      <td>1035.950498</td>\n",
       "      <td>19</td>\n",
       "    </tr>\n",
       "    <tr>\n",
       "      <th>19</th>\n",
       "      <td>2.973749</td>\n",
       "      <td>1035.950498</td>\n",
       "      <td>20</td>\n",
       "    </tr>\n",
       "    <tr>\n",
       "      <th>20</th>\n",
       "      <td>2.973747</td>\n",
       "      <td>1035.950498</td>\n",
       "      <td>21</td>\n",
       "    </tr>\n",
       "    <tr>\n",
       "      <th>21</th>\n",
       "      <td>2.973748</td>\n",
       "      <td>1035.950498</td>\n",
       "      <td>22</td>\n",
       "    </tr>\n",
       "  </tbody>\n",
       "</table>\n",
       "</div>"
      ],
      "text/plain": [
       "    parameter   likelihood  iteration\n",
       "0   -4.000000  4075.522809          1\n",
       "1   -3.800000  3903.679117          2\n",
       "2   -3.600000  3736.835424          3\n",
       "3   -3.200000  3418.148039          4\n",
       "4   -2.800000  3119.460654          5\n",
       "5   -2.000000  2582.085884          6\n",
       "6   -1.200000  2124.711114          7\n",
       "7    0.400000  1449.961575          8\n",
       "8    2.000000  1095.212035          9\n",
       "9    3.600000  1060.462495         10\n",
       "10   2.800000  1037.837265         11\n",
       "11   3.000000  1035.993572         12\n",
       "12   2.950000  1035.985746         13\n",
       "13   2.975000  1035.950596         14\n",
       "14   2.973438  1035.950504         15\n",
       "15   2.973828  1035.950499         16\n",
       "16   2.973730  1035.950498         17\n",
       "17   2.973755  1035.950498         18\n",
       "18   2.973743  1035.950498         19\n",
       "19   2.973749  1035.950498         20\n",
       "20   2.973747  1035.950498         21\n",
       "21   2.973748  1035.950498         22"
      ]
     },
     "execution_count": 6,
     "metadata": {},
     "output_type": "execute_result"
    }
   ],
   "source": [
    "callback = lik_sim.to_dataframe()\n",
    "callback"
   ]
  },
  {
   "cell_type": "code",
   "execution_count": 7,
   "id": "4d78bf2d",
   "metadata": {},
   "outputs": [
    {
     "data": {
      "text/plain": [
       "Text(0.5, 0, 'Mean value: $\\\\mu$')"
      ]
     },
     "execution_count": 7,
     "metadata": {},
     "output_type": "execute_result"
    },
    {
     "data": {
      "image/png": "[encoded data removed]",
      "text/plain": [
       "<Figure size 432x288 with 1 Axes>"
      ]
     },
     "metadata": {
      "needs_background": "light"
     },
     "output_type": "display_data"
    }
   ],
   "source": [
    "mu = np.arange(-5, 5, 0.01)\n",
    "likelihood_values = []\n",
    "\n",
    "for val in mu:\n",
    "    likelihood_values.append(likelihood(val, sample))\n",
    "     \n",
    "plt.plot(mu, likelihood_values)\n",
    "plt.plot(callback.parameter, callback.likelihood, 'rx')\n",
    "plt.plot(lik_model.x, lik_model.fun, 'ko')\n",
    "\n",
    "plt.ylabel(\"Likelihood $\\mathcal{L}(\\mu | \\sigma^{2}, x)$\")\n",
    "plt.xlabel(\"Mean value: $\\mu$\")"
   ]
  },
  {
   "cell_type": "markdown",
   "id": "3c25bf9d",
   "metadata": {},
   "source": [
    "## Setting $\\mu$ to be a function of some parameters $a$, $b$\n",
    "\n",
    "Let $\\mu(a, b) = ax^{2} + bx^{2}$"
   ]
  },
  {
   "cell_type": "code",
   "execution_count": null,
   "id": "6af2a486",
   "metadata": {},
   "outputs": [],
   "source": [
    "def model(params, x):\n",
    "    x, y = params\n",
    "    return ((x + 2*y - 7)**2 + (2*x + y - 5)**2)"
   ]
  },
  {
   "cell_type": "code",
   "execution_count": null,
   "id": "9ac59de2",
   "metadata": {},
   "outputs": [],
   "source": [
    "# define the univariate Gaussian likelihood\n",
    "def likelihood(params, x):\n",
    "    mu = model(params, x)\n",
    "    sigma = 2\n",
    "    n = len(x)\n",
    "    L = (n/2)*np.log(2*np.pi)+(n/2)*np.log(sigma**2)+(1/(2*sigma**2))*sum((x-mu)**2)\n",
    "    return L"
   ]
  },
  {
   "cell_type": "code",
   "execution_count": null,
   "id": "0874491a",
   "metadata": {},
   "outputs": [],
   "source": [
    "a = np.arange(-10, 10, .1)\n",
    "b = np.arange(-10, 10, .1)\n",
    "\n",
    "aa, bb = np.meshgrid(a, b, indexing='ij')\n",
    "\n",
    "values = np.array((aa, bb)).T.reshape(-1, 2)\n",
    "\n",
    "likelihood_values = np.zeros(values.shape[0])\n",
    "\n",
    "for idx, val in enumerate(values):\n",
    "    likelihood_values[idx] = likelihood(val, sample)\n",
    "    \n",
    "likelihood_values\n",
    "\n",
    "contours = plt.contour(aa, bb, likelihood_values.reshape(aa.shape), 10)\n",
    "plt.clabel(contours, inline=1, fontsize=12)\n",
    "plt.ylabel(\"b\")\n",
    "plt.xlabel(\"a\")\n",
    "plt.colorbar()"
   ]
  },
  {
   "cell_type": "code",
   "execution_count": null,
   "id": "360764f4",
   "metadata": {},
   "outputs": [],
   "source": [
    "initial_guess = [10, 15]\n",
    "\n",
    "likelihood_sim = Simulator(likelihood)\n",
    "\n",
    "lik_model = minimize(likelihood_sim.simulate, x0=initial_guess,\n",
    "                     args=(sample),\n",
    "                     method=\"Nelder-Mead\",\n",
    "                     tol=1e-6,\n",
    "                     options={\"disp\": True})"
   ]
  },
  {
   "cell_type": "code",
   "execution_count": null,
   "id": "e647cf6a",
   "metadata": {},
   "outputs": [],
   "source": [
    "likelihood_sim.list_calls_inp"
   ]
  },
  {
   "cell_type": "code",
   "execution_count": null,
   "id": "b84f003f",
   "metadata": {},
   "outputs": [],
   "source": [
    "plt.contour(aa, bb, likelihood_values.reshape(aa.shape), 20)\n",
    "plt.ylabel(\"b\")\n",
    "plt.xlabel(\"a\")\n",
    "plt.plot(test[0], test[1], 'bo')\n",
    "plt.plot(lik_model.x[0], lik_model.x[1], 'ko', label=f\"mu(a={lik_model.x[0]:.2f}, b={lik_model.x[1]:.2f})\")\n",
    "plt.legend()\n",
    "plt.colorbar()"
   ]
  },
  {
   "cell_type": "code",
   "execution_count": null,
   "id": "cb6c81af",
   "metadata": {},
   "outputs": [],
   "source": [
    "initial_guess = rng.random(2)\n",
    "\n",
    "print(initial_guess)\n",
    "\n",
    "def callback_function(Xi):\n",
    "    global nfev\n",
    "    print(f\"{nfev}, {Xi[0]}, {Xi[1]}\")\n",
    "    Nfeval += 1\n",
    "\n",
    "lik_model = minimize(likelihood, x0=initial_guess,\n",
    "                     args=(sample),\n",
    "                     method=\"Nelder-Mead\",\n",
    "                     tol=1e-6,\n",
    "                     callback=callback_function,\n",
    "                     options={\"disp\": True})\n",
    "\n",
    "lik_model.x"
   ]
  },
  {
   "cell_type": "code",
   "execution_count": null,
   "id": "1207047c",
   "metadata": {},
   "outputs": [],
   "source": [
    "plt.contour(aa, bb, likelihood_values.reshape(aa.shape), 20)\n",
    "plt.ylabel(\"b\")\n",
    "plt.xlabel(\"a\")\n",
    "plt.plot(lik_model.x[0], lik_model.x[1], 'ko', label=f\"mu(a={lik_model.x[0]:.2f}, b={lik_model.x[1]:.2f})\")\n",
    "plt.legend()\n",
    "plt.colorbar()"
   ]
  },
  {
   "cell_type": "code",
   "execution_count": null,
   "id": "2fcbf3fe",
   "metadata": {},
   "outputs": [],
   "source": [
    "test = np.array([])\n",
    "\n",
    "print(test)\n",
    "\n",
    "test = np.append(test, 3)\n",
    "\n",
    "print(test)"
   ]
  },
  {
   "cell_type": "code",
   "execution_count": null,
   "id": "04a3524c",
   "metadata": {},
   "outputs": [],
   "source": []
  },
  {
   "cell_type": "code",
   "execution_count": null,
   "id": "fe7475e8",
   "metadata": {
    "scrolled": true
   },
   "outputs": [],
   "source": [
    "class Simulator:\n",
    "    def __init__(self, objective):\n",
    "        self.objective = objective # define objective function\n",
    "        self.call_count = 0 # how many times the objective function has been called\n",
    "        self.callback_count = 0 # number of times callback has been called, also measures iteration count\n",
    "        self.list_calls_inp = [] # parameter inputs for all calls\n",
    "        self.list_calls_res = [] # loss value output for all calls\n",
    "        self.decreasing_list_calls_inp = [] # parameter inputs that resulted in decrease\n",
    "        self.decreasing_list_calls_res = [] # loss value outputs that resulted in decrease\n",
    "        self.list_callback_inp = [] # only appends inputs on callback, as such they correspond to the iterations\n",
    "        self.list_callback_res = [] # only appends results on callback, as such they correspond to the iterations\n",
    "\n",
    "    def simulate(self, x, *args):\n",
    "        \"\"\"\n",
    "            Executes the simulation.\n",
    "            Returns the result and updates the lists for the callback.\n",
    "            Pass to the optimiser as the objective function.\n",
    "        \"\"\"\n",
    "        result = self.objective(x, *args) # evaluate the objective function\n",
    "        x = x[0] if len(x) == 1 else list(x)\n",
    "            \n",
    "        if not self.call_count: # first call is stored in all lists\n",
    "            self.decreasing_list_calls_inp.append(x)\n",
    "            self.decreasing_list_calls_res.append(result)\n",
    "            self.list_callback_inp.append(x)\n",
    "            self.list_callback_res.append(result)\n",
    "        elif result < self.decreasing_list_calls_res[-1]:\n",
    "            self.decreasing_list_calls_inp.append(x)\n",
    "            self.decreasing_list_calls_res.append(result)\n",
    "        self.list_calls_inp.append(x)\n",
    "        self.list_calls_res.append(result)\n",
    "        self.call_count += 1\n",
    "        return result\n",
    "    \n",
    "    def callback(self, xk, *_):\n",
    "        s1 = \"\"\n",
    "        xk = np.atleast_1d(xk)\n",
    "        for i, x in reversed(list(enumerate(self.list_calls_inp))):\n",
    "            x = np.atleast_1d(x)\n",
    "            if np.allclose(x, xk):\n",
    "                break\n",
    "\n",
    "        for comp in xk:\n",
    "            s1 += f\"{comp:10.5e}\\t\"\n",
    "        s1 += f\"{self.list_calls_res[i]:10.5e}\"\n",
    "\n",
    "        self.list_callback_inp.append(xk)\n",
    "        self.list_callback_res.append(self.list_calls_res[i])\n",
    "\n",
    "        if not self.callback_count:\n",
    "            s0 = \"\"\n",
    "            for j, _ in enumerate(xk):\n",
    "                tmp = f\"Comp-{j+1}\"\n",
    "                s0 += f\"{tmp:10s}\\t\"\n",
    "            s0 += \"Objective\"\n",
    "            print(s0)\n",
    "        print(s1)\n",
    "        self.callback_count += 1\n",
    "\n",
    "        \n",
    "minimize(likelihood_sim.simulate,\n",
    "         x0=initial_guess,\n",
    "         args=sample,\n",
    "         method=\"Nelder-Mead\",\n",
    "         options={\"disp\": True})"
   ]
  },
  {
   "cell_type": "code",
   "execution_count": null,
   "id": "4c1ec9f5",
   "metadata": {},
   "outputs": [],
   "source": [
    "import pandas as pd\n",
    "\n",
    "data = {}\n",
    "\n",
    "params = np.array(lik_sim.decreasing_list_calls_inp).T\n",
    "\n",
    "print(params.ndim)\n",
    "\n",
    "if params.ndim == 1:\n",
    "    data[\"param\"] = params\n",
    "else:\n",
    "    for idx, i in enumerate(params):\n",
    "        data[f\"param {idx + 1}\"] = i\n",
    "data[\"likelihood\"] = lik_sim.decreasing_list_calls_res\n",
    "    \n",
    "pd.DataFrame(data)\n",
    "#likelihood_sim.decreasing_list_calls_inplikelihood_sim.decreasing_list_calls_res]"
   ]
  },
  {
   "cell_type": "code",
   "execution_count": null,
   "id": "8a8f0cb7",
   "metadata": {},
   "outputs": [],
   "source": []
  },
  {
   "cell_type": "code",
   "execution_count": null,
   "id": "491c1d77",
   "metadata": {},
   "outputs": [],
   "source": []
  }
 ],
 "metadata": {
  "kernelspec": {
   "display_name": "Python 3 (ipykernel)",
   "language": "python",
   "name": "python3"
  },
  "language_info": {
   "codemirror_mode": {
    "name": "ipython",
    "version": 3
   },
   "file_extension": ".py",
   "mimetype": "text/x-python",
   "name": "python",
   "nbconvert_exporter": "python",
   "pygments_lexer": "ipython3",
   "version": "3.10.4"
  }
 },
 "nbformat": 4,
 "nbformat_minor": 5
}
