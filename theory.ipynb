{
 "cells": [
  {
   "cell_type": "markdown",
   "id": "a62c764f",
   "metadata": {},
   "source": [
    "# Theory"
   ]
  },
  {
   "cell_type": "code",
   "execution_count": 1,
   "id": "698c544d",
   "metadata": {},
   "outputs": [],
   "source": [
    "import numpy as np\n",
    "\n",
    "from scipy.optimize import minimize\n",
    "\n",
    "import matplotlib.pyplot as plt\n",
    "import seaborn\n",
    "seaborn.set_style(\"darkgrid\")\n",
    "\n",
    "from src.callback import Simulator"
   ]
  },
  {
   "cell_type": "markdown",
   "id": "9c0b2276",
   "metadata": {},
   "source": [
    "# Maximum Likelihood Estimation in one dimension"
   ]
  },
  {
   "cell_type": "markdown",
   "id": "d64c86b6",
   "metadata": {},
   "source": [
    "## Generating a sample\n",
    "\n",
    "The probability density function of the univariate Gaussian is given by:\n",
    "\n",
    "$$f(x | \\mu, \\sigma^{2}) = \\frac{1}{\\sqrt{2\\pi \\sigma^{2}}}e^{-\\frac{1}{2\\sigma^{2}}(x - \\mu)^{2}}$$"
   ]
  },
  {
   "cell_type": "code",
   "execution_count": 2,
   "id": "6e3f9dff",
   "metadata": {},
   "outputs": [
    {
     "name": "stdout",
     "output_type": "stream",
     "text": [
      "[-4.   -3.99 -3.98 ...  9.97  9.98  9.99]\n",
      "Shape: (500,)\n"
     ]
    },
    {
     "data": {
      "text/plain": [
       "[<matplotlib.lines.Line2D at 0x7f5b874585e0>]"
      ]
     },
     "execution_count": 2,
     "metadata": {},
     "output_type": "execute_result"
    },
    {
     "data": {
      "image/png": "[encoded data removed]",
      "text/plain": [
       "<Figure size 432x288 with 1 Axes>"
      ]
     },
     "metadata": {
      "needs_background": "light"
     },
     "output_type": "display_data"
    }
   ],
   "source": [
    "# set the random seed\n",
    "rng = np.random.default_rng(42)\n",
    "# generate a sample of normally distributed random variables with mean mu and variance var\n",
    "mu = 3\n",
    "var = 2\n",
    "# generate a random sample using the numpy function\n",
    "sample = rng.normal(mu, var, 500)\n",
    "\n",
    "def pdf(x, mu, var):\n",
    "    \"\"\"\n",
    "        Return a vector (shape of x) of the probabilities\n",
    "        of the values of x\n",
    "    \"\"\"\n",
    "    return 1 / (np.sqrt(2*np.pi*var)) * np.exp(-1/(2*var)*(x - mu)**2)\n",
    "\n",
    "xx = np.arange(-4, 10, 0.01)\n",
    "\n",
    "print(xx)\n",
    "probs = pdf(xx, mu, var)\n",
    "\n",
    "print(f\"Shape: {sample.shape}\")\n",
    "\n",
    "plt.hist(sample, bins=15, density=True);\n",
    "plt.plot(xx, probs, c='red')"
   ]
  },
  {
   "cell_type": "markdown",
   "id": "0f684d24",
   "metadata": {},
   "source": [
    "## Maximum Likelihood Estimation\n",
    "\n",
    "Here we minimise the likelihood function for the univariate Gaussian pdf. This allows us to find the best-fitting parameters.\n",
    "\n",
    "The log-likelihood of the univariate Gaussian is given by:\n",
    "\n",
    "$$\\log \\mathcal{L}(\\mu, \\sigma^{2}| \\vec{x}) = -\\frac{n}{2} \\log (2\\pi) - \\frac{n}{2} \\log \\sigma^{2} - \\frac{1}{2\\sigma^{2}}\\sum_{i = 1}^{n} (x_{i} - \\mu)^{2}$$\n",
    "\n",
    "and hence we want to minimise\n",
    "\n",
    "$$\\hat{\\mu} = -\\text{argmin}_{\\mu} \\log \\mathcal{L}(\\mu, \\sigma^{2} | \\vec{x})$$"
   ]
  },
  {
   "cell_type": "code",
   "execution_count": 3,
   "id": "22cdaf7f",
   "metadata": {},
   "outputs": [],
   "source": [
    "# define the univariate Gaussian likelihood function\n",
    "def likelihood(params, x):\n",
    "    mu = params\n",
    "    sigma = 2\n",
    "    n = len(x)\n",
    "    L = (n/2)*np.log(2*np.pi)+(n/2)*np.log(sigma**2)+(1/(2*sigma**2))*sum((x-mu)**2)\n",
    "    return L"
   ]
  },
  {
   "cell_type": "markdown",
   "id": "bedc0bf8",
   "metadata": {},
   "source": [
    "## Evaluating the likelihood function\n",
    "\n",
    "Evaluating the likelihood function over a range of values, we can geometrically approximate the MLE to be zero."
   ]
  },
  {
   "cell_type": "code",
   "execution_count": 4,
   "id": "ced1c500",
   "metadata": {},
   "outputs": [
    {
     "data": {
      "text/plain": [
       "Text(0.5, 0, 'Mean value: $\\\\mu$')"
      ]
     },
     "execution_count": 4,
     "metadata": {},
     "output_type": "execute_result"
    },
    {
     "data": {
      "image/png": "[encoded data removed]",
      "text/plain": [
       "<Figure size 432x288 with 1 Axes>"
      ]
     },
     "metadata": {
      "needs_background": "light"
     },
     "output_type": "display_data"
    }
   ],
   "source": [
    "# range of mu values to test for maximum likelihood\n",
    "mu = np.arange(-5, 5, 0.01)\n",
    "# list for storing the likelihood values for each mu value\n",
    "likelihood_values = []\n",
    "\n",
    "# loop through all values of mu and append the likelihood value output to likelihood_values\n",
    "for val in mu:\n",
    "    likelihood_values.append(likelihood(val, sample))\n",
    "     \n",
    "# plot the likelihood values\n",
    "plt.plot(mu, likelihood_values)\n",
    "plt.ylabel(\"Likelihood $\\mathcal{L}(\\mu | \\sigma^{2}, x)$\")\n",
    "plt.xlabel(\"Mean value: $\\mu$\")"
   ]
  },
  {
   "cell_type": "markdown",
   "id": "59cec2c1",
   "metadata": {},
   "source": [
    "## Minimising the likelihood function using scipy.optimize.minimize\n",
    "\n",
    "Choose -4 as our initial guess for $\\mu$.\n",
    "\n",
    "As we can see in the plot above, $\\text{MLE}_{\\mu} \\approx 3$, so we should see a clear path from left to right across the curve."
   ]
  },
  {
   "cell_type": "code",
   "execution_count": 5,
   "id": "14ce5b3d",
   "metadata": {
    "scrolled": true
   },
   "outputs": [
    {
     "name": "stdout",
     "output_type": "stream",
     "text": [
      "Optimization terminated successfully.\n",
      "         Current function value: 1035.950498\n",
      "         Iterations: 27\n",
      "         Function evaluations: 54\n"
     ]
    },
    {
     "data": {
      "text/plain": [
       "array([2.97374802])"
      ]
     },
     "execution_count": 5,
     "metadata": {},
     "output_type": "execute_result"
    }
   ],
   "source": [
    "# choose initial guess to be -4\n",
    "initial_guess = -4\n",
    "\n",
    "# instantiate the simulator class\n",
    "lik_sim = Simulator(likelihood)\n",
    "\n",
    "# minimise the -log(L) function using the wrapper class Simulator\n",
    "lik_model = minimize(lik_sim.simulate, x0=initial_guess,\n",
    "                     args=(sample),\n",
    "                     method=\"Nelder-Mead\",\n",
    "                     tol=1e-6,\n",
    "                     options={\"disp\": True})\n",
    "\n",
    "lik_model.x"
   ]
  },
  {
   "cell_type": "code",
   "execution_count": 6,
   "id": "7fd84358",
   "metadata": {},
   "outputs": [
    {
     "data": {
      "text/html": [
       "<div>\n",
       "<style scoped>\n",
       "    .dataframe tbody tr th:only-of-type {\n",
       "        vertical-align: middle;\n",
       "    }\n",
       "\n",
       "    .dataframe tbody tr th {\n",
       "        vertical-align: top;\n",
       "    }\n",
       "\n",
       "    .dataframe thead th {\n",
       "        text-align: right;\n",
       "    }\n",
       "</style>\n",
       "<table border=\"1\" class=\"dataframe\">\n",
       "  <thead>\n",
       "    <tr style=\"text-align: right;\">\n",
       "      <th></th>\n",
       "      <th>parameter</th>\n",
       "      <th>likelihood</th>\n",
       "      <th>iteration</th>\n",
       "    </tr>\n",
       "  </thead>\n",
       "  <tbody>\n",
       "    <tr>\n",
       "      <th>0</th>\n",
       "      <td>-4.000000</td>\n",
       "      <td>4075.522809</td>\n",
       "      <td>1</td>\n",
       "    </tr>\n",
       "    <tr>\n",
       "      <th>1</th>\n",
       "      <td>-3.800000</td>\n",
       "      <td>3903.679117</td>\n",
       "      <td>2</td>\n",
       "    </tr>\n",
       "    <tr>\n",
       "      <th>2</th>\n",
       "      <td>-3.600000</td>\n",
       "      <td>3736.835424</td>\n",
       "      <td>3</td>\n",
       "    </tr>\n",
       "    <tr>\n",
       "      <th>3</th>\n",
       "      <td>-3.200000</td>\n",
       "      <td>3418.148039</td>\n",
       "      <td>4</td>\n",
       "    </tr>\n",
       "    <tr>\n",
       "      <th>4</th>\n",
       "      <td>-2.800000</td>\n",
       "      <td>3119.460654</td>\n",
       "      <td>5</td>\n",
       "    </tr>\n",
       "    <tr>\n",
       "      <th>5</th>\n",
       "      <td>-2.000000</td>\n",
       "      <td>2582.085884</td>\n",
       "      <td>6</td>\n",
       "    </tr>\n",
       "    <tr>\n",
       "      <th>6</th>\n",
       "      <td>-1.200000</td>\n",
       "      <td>2124.711114</td>\n",
       "      <td>7</td>\n",
       "    </tr>\n",
       "    <tr>\n",
       "      <th>7</th>\n",
       "      <td>0.400000</td>\n",
       "      <td>1449.961575</td>\n",
       "      <td>8</td>\n",
       "    </tr>\n",
       "    <tr>\n",
       "      <th>8</th>\n",
       "      <td>2.000000</td>\n",
       "      <td>1095.212035</td>\n",
       "      <td>9</td>\n",
       "    </tr>\n",
       "    <tr>\n",
       "      <th>9</th>\n",
       "      <td>3.600000</td>\n",
       "      <td>1060.462495</td>\n",
       "      <td>10</td>\n",
       "    </tr>\n",
       "    <tr>\n",
       "      <th>10</th>\n",
       "      <td>2.800000</td>\n",
       "      <td>1037.837265</td>\n",
       "      <td>11</td>\n",
       "    </tr>\n",
       "    <tr>\n",
       "      <th>11</th>\n",
       "      <td>3.000000</td>\n",
       "      <td>1035.993572</td>\n",
       "      <td>12</td>\n",
       "    </tr>\n",
       "    <tr>\n",
       "      <th>12</th>\n",
       "      <td>2.950000</td>\n",
       "      <td>1035.985746</td>\n",
       "      <td>13</td>\n",
       "    </tr>\n",
       "    <tr>\n",
       "      <th>13</th>\n",
       "      <td>2.975000</td>\n",
       "      <td>1035.950596</td>\n",
       "      <td>14</td>\n",
       "    </tr>\n",
       "    <tr>\n",
       "      <th>14</th>\n",
       "      <td>2.973438</td>\n",
       "      <td>1035.950504</td>\n",
       "      <td>15</td>\n",
       "    </tr>\n",
       "    <tr>\n",
       "      <th>15</th>\n",
       "      <td>2.973828</td>\n",
       "      <td>1035.950499</td>\n",
       "      <td>16</td>\n",
       "    </tr>\n",
       "    <tr>\n",
       "      <th>16</th>\n",
       "      <td>2.973730</td>\n",
       "      <td>1035.950498</td>\n",
       "      <td>17</td>\n",
       "    </tr>\n",
       "    <tr>\n",
       "      <th>17</th>\n",
       "      <td>2.973755</td>\n",
       "      <td>1035.950498</td>\n",
       "      <td>18</td>\n",
       "    </tr>\n",
       "    <tr>\n",
       "      <th>18</th>\n",
       "      <td>2.973743</td>\n",
       "      <td>1035.950498</td>\n",
       "      <td>19</td>\n",
       "    </tr>\n",
       "    <tr>\n",
       "      <th>19</th>\n",
       "      <td>2.973749</td>\n",
       "      <td>1035.950498</td>\n",
       "      <td>20</td>\n",
       "    </tr>\n",
       "    <tr>\n",
       "      <th>20</th>\n",
       "      <td>2.973747</td>\n",
       "      <td>1035.950498</td>\n",
       "      <td>21</td>\n",
       "    </tr>\n",
       "    <tr>\n",
       "      <th>21</th>\n",
       "      <td>2.973748</td>\n",
       "      <td>1035.950498</td>\n",
       "      <td>22</td>\n",
       "    </tr>\n",
       "  </tbody>\n",
       "</table>\n",
       "</div>"
      ],
      "text/plain": [
       "    parameter   likelihood  iteration\n",
       "0   -4.000000  4075.522809          1\n",
       "1   -3.800000  3903.679117          2\n",
       "2   -3.600000  3736.835424          3\n",
       "3   -3.200000  3418.148039          4\n",
       "4   -2.800000  3119.460654          5\n",
       "5   -2.000000  2582.085884          6\n",
       "6   -1.200000  2124.711114          7\n",
       "7    0.400000  1449.961575          8\n",
       "8    2.000000  1095.212035          9\n",
       "9    3.600000  1060.462495         10\n",
       "10   2.800000  1037.837265         11\n",
       "11   3.000000  1035.993572         12\n",
       "12   2.950000  1035.985746         13\n",
       "13   2.975000  1035.950596         14\n",
       "14   2.973438  1035.950504         15\n",
       "15   2.973828  1035.950499         16\n",
       "16   2.973730  1035.950498         17\n",
       "17   2.973755  1035.950498         18\n",
       "18   2.973743  1035.950498         19\n",
       "19   2.973749  1035.950498         20\n",
       "20   2.973747  1035.950498         21\n",
       "21   2.973748  1035.950498         22"
      ]
     },
     "execution_count": 6,
     "metadata": {},
     "output_type": "execute_result"
    }
   ],
   "source": [
    "callback = lik_sim.to_dataframe()\n",
    "callback"
   ]
  },
  {
   "cell_type": "code",
   "execution_count": 7,
   "id": "8894da80",
   "metadata": {},
   "outputs": [
    {
     "data": {
      "text/plain": [
       "Text(0.5, 0, 'Mean value: $\\\\mu$')"
      ]
     },
     "execution_count": 7,
     "metadata": {},
     "output_type": "execute_result"
    },
    {
     "data": {
      "image/png": "[encoded data removed]",
      "text/plain": [
       "<Figure size 432x288 with 1 Axes>"
      ]
     },
     "metadata": {
      "needs_background": "light"
     },
     "output_type": "display_data"
    }
   ],
   "source": [
    "mu = np.arange(-5, 5, 0.01)\n",
    "likelihood_values = []\n",
    "\n",
    "for val in mu:\n",
    "    likelihood_values.append(likelihood(val, sample))\n",
    "     \n",
    "plt.plot(mu, likelihood_values)\n",
    "plt.plot(callback.parameter, callback.likelihood, 'rx')\n",
    "plt.plot(lik_model.x, lik_model.fun, 'ko')\n",
    "\n",
    "plt.ylabel(\"Likelihood $\\mathcal{L}(\\mu | \\sigma^{2}, x)$\")\n",
    "plt.xlabel(\"Mean value: $\\mu$\")"
   ]
  },
  {
   "cell_type": "markdown",
   "id": "3c25bf9d",
   "metadata": {},
   "source": [
    "## Setting $\\mu$ to be a function of some parameters $a$, $b$\n",
    "\n",
    "Let $\\mu(a, b) = ax^{2} + bx^{2}$"
   ]
  },
  {
   "cell_type": "code",
   "execution_count": 8,
   "id": "6af2a486",
   "metadata": {},
   "outputs": [],
   "source": [
    "def model(params, x):\n",
    "    x, y = params\n",
    "    return ((x + 2*y - 7)**2 + (2*x + y - 5)**2)"
   ]
  },
  {
   "cell_type": "code",
   "execution_count": 9,
   "id": "9ac59de2",
   "metadata": {},
   "outputs": [],
   "source": [
    "# define the univariate Gaussian likelihood\n",
    "def likelihood(params, x):\n",
    "    mu = model(params, x)\n",
    "    sigma = 2\n",
    "    n = len(x)\n",
    "    L = (n/2)*np.log(2*np.pi)+(n/2)*np.log(sigma**2)+(1/(2*sigma**2))*sum((x-mu)**2)\n",
    "    return L"
   ]
  },
  {
   "cell_type": "code",
   "execution_count": 16,
   "id": "0874491a",
   "metadata": {},
   "outputs": [
    {
     "data": {
      "text/plain": [
       "<matplotlib.colorbar.Colorbar at 0x7f5b84f220e0>"
      ]
     },
     "execution_count": 16,
     "metadata": {},
     "output_type": "execute_result"
    },
    {
     "data": {
      "image/png": "[encoded data removed]",
      "text/plain": [
       "<Figure size 432x288 with 2 Axes>"
      ]
     },
     "metadata": {
      "needs_background": "light"
     },
     "output_type": "display_data"
    }
   ],
   "source": [
    "a = np.arange(-16, 16, .1)\n",
    "b = np.arange(-16, 16, .1)\n",
    "\n",
    "aa, bb = np.meshgrid(a, b, indexing='ij')\n",
    "\n",
    "values = np.array((aa, bb)).T.reshape(-1, 2)\n",
    "\n",
    "likelihood_values = np.zeros(values.shape[0])\n",
    "\n",
    "for idx, val in enumerate(values):\n",
    "    likelihood_values[idx] = likelihood(val, sample)\n",
    "    \n",
    "likelihood_values\n",
    "\n",
    "contours = plt.contour(aa, bb, likelihood_values.reshape(aa.shape), 10)\n",
    "plt.clabel(contours, inline=1, fontsize=12)\n",
    "plt.ylabel(\"b\")\n",
    "plt.xlabel(\"a\")\n",
    "plt.colorbar()"
   ]
  },
  {
   "cell_type": "code",
   "execution_count": 17,
   "id": "ca650b44",
   "metadata": {},
   "outputs": [
    {
     "name": "stdout",
     "output_type": "stream",
     "text": [
      "Optimization terminated successfully.\n",
      "         Current function value: 1035.950498\n",
      "         Iterations: 80\n",
      "         Function evaluations: 167\n"
     ]
    }
   ],
   "source": [
    "initial_guess = [10, 15]\n",
    "\n",
    "likelihood_sim = Simulator(likelihood)\n",
    "\n",
    "lik_model = minimize(likelihood_sim.simulate, x0=initial_guess,\n",
    "                     args=(sample),\n",
    "                     method=\"Nelder-Mead\",\n",
    "                     tol=1e-6,\n",
    "                     options={\"disp\": True})"
   ]
  },
  {
   "cell_type": "code",
   "execution_count": 18,
   "id": "3d954d43",
   "metadata": {},
   "outputs": [
    {
     "data": {
      "text/html": [
       "<div>\n",
       "<style scoped>\n",
       "    .dataframe tbody tr th:only-of-type {\n",
       "        vertical-align: middle;\n",
       "    }\n",
       "\n",
       "    .dataframe tbody tr th {\n",
       "        vertical-align: top;\n",
       "    }\n",
       "\n",
       "    .dataframe thead th {\n",
       "        text-align: right;\n",
       "    }\n",
       "</style>\n",
       "<table border=\"1\" class=\"dataframe\">\n",
       "  <thead>\n",
       "    <tr style=\"text-align: right;\">\n",
       "      <th></th>\n",
       "      <th>parameter 1</th>\n",
       "      <th>parameter 2</th>\n",
       "      <th>likelihood</th>\n",
       "      <th>iteration</th>\n",
       "    </tr>\n",
       "  </thead>\n",
       "  <tbody>\n",
       "    <tr>\n",
       "      <th>0</th>\n",
       "      <td>10.000000</td>\n",
       "      <td>15.000000</td>\n",
       "      <td>2.465198e+08</td>\n",
       "      <td>1</td>\n",
       "    </tr>\n",
       "    <tr>\n",
       "      <th>1</th>\n",
       "      <td>10.500000</td>\n",
       "      <td>14.250000</td>\n",
       "      <td>2.342785e+08</td>\n",
       "      <td>2</td>\n",
       "    </tr>\n",
       "    <tr>\n",
       "      <th>2</th>\n",
       "      <td>10.750000</td>\n",
       "      <td>13.500000</td>\n",
       "      <td>2.121969e+08</td>\n",
       "      <td>3</td>\n",
       "    </tr>\n",
       "    <tr>\n",
       "      <th>3</th>\n",
       "      <td>10.250000</td>\n",
       "      <td>13.500000</td>\n",
       "      <td>1.920835e+08</td>\n",
       "      <td>4</td>\n",
       "    </tr>\n",
       "    <tr>\n",
       "      <th>4</th>\n",
       "      <td>10.125000</td>\n",
       "      <td>12.750000</td>\n",
       "      <td>1.600844e+08</td>\n",
       "      <td>5</td>\n",
       "    </tr>\n",
       "    <tr>\n",
       "      <th>5</th>\n",
       "      <td>10.875000</td>\n",
       "      <td>11.250000</td>\n",
       "      <td>1.362851e+08</td>\n",
       "      <td>6</td>\n",
       "    </tr>\n",
       "    <tr>\n",
       "      <th>6</th>\n",
       "      <td>11.312500</td>\n",
       "      <td>9.375000</td>\n",
       "      <td>9.889637e+07</td>\n",
       "      <td>7</td>\n",
       "    </tr>\n",
       "    <tr>\n",
       "      <th>7</th>\n",
       "      <td>10.687500</td>\n",
       "      <td>8.625000</td>\n",
       "      <td>7.027973e+07</td>\n",
       "      <td>8</td>\n",
       "    </tr>\n",
       "    <tr>\n",
       "      <th>8</th>\n",
       "      <td>10.656250</td>\n",
       "      <td>6.187500</td>\n",
       "      <td>3.612738e+07</td>\n",
       "      <td>9</td>\n",
       "    </tr>\n",
       "    <tr>\n",
       "      <th>9</th>\n",
       "      <td>11.843750</td>\n",
       "      <td>2.812500</td>\n",
       "      <td>2.022692e+07</td>\n",
       "      <td>10</td>\n",
       "    </tr>\n",
       "    <tr>\n",
       "      <th>10</th>\n",
       "      <td>12.703125</td>\n",
       "      <td>-2.156250</td>\n",
       "      <td>6.890973e+06</td>\n",
       "      <td>11</td>\n",
       "    </tr>\n",
       "    <tr>\n",
       "      <th>11</th>\n",
       "      <td>12.046875</td>\n",
       "      <td>-5.343750</td>\n",
       "      <td>2.968709e+06</td>\n",
       "      <td>12</td>\n",
       "    </tr>\n",
       "    <tr>\n",
       "      <th>12</th>\n",
       "      <td>11.296875</td>\n",
       "      <td>-3.843750</td>\n",
       "      <td>2.441028e+06</td>\n",
       "      <td>13</td>\n",
       "    </tr>\n",
       "    <tr>\n",
       "      <th>13</th>\n",
       "      <td>10.609375</td>\n",
       "      <td>-3.468750</td>\n",
       "      <td>1.821448e+06</td>\n",
       "      <td>14</td>\n",
       "    </tr>\n",
       "    <tr>\n",
       "      <th>14</th>\n",
       "      <td>9.296875</td>\n",
       "      <td>-3.843750</td>\n",
       "      <td>9.183321e+05</td>\n",
       "      <td>15</td>\n",
       "    </tr>\n",
       "    <tr>\n",
       "      <th>15</th>\n",
       "      <td>7.921875</td>\n",
       "      <td>-3.093750</td>\n",
       "      <td>4.506409e+05</td>\n",
       "      <td>16</td>\n",
       "    </tr>\n",
       "    <tr>\n",
       "      <th>16</th>\n",
       "      <td>5.109375</td>\n",
       "      <td>-0.468750</td>\n",
       "      <td>4.860126e+04</td>\n",
       "      <td>17</td>\n",
       "    </tr>\n",
       "    <tr>\n",
       "      <th>17</th>\n",
       "      <td>2.359375</td>\n",
       "      <td>1.031250</td>\n",
       "      <td>2.157157e+03</td>\n",
       "      <td>18</td>\n",
       "    </tr>\n",
       "    <tr>\n",
       "      <th>18</th>\n",
       "      <td>-0.453125</td>\n",
       "      <td>3.656250</td>\n",
       "      <td>1.313819e+03</td>\n",
       "      <td>19</td>\n",
       "    </tr>\n",
       "    <tr>\n",
       "      <th>19</th>\n",
       "      <td>1.593750</td>\n",
       "      <td>2.812500</td>\n",
       "      <td>1.267768e+03</td>\n",
       "      <td>20</td>\n",
       "    </tr>\n",
       "    <tr>\n",
       "      <th>20</th>\n",
       "      <td>1.464844</td>\n",
       "      <td>2.132812</td>\n",
       "      <td>1.151233e+03</td>\n",
       "      <td>21</td>\n",
       "    </tr>\n",
       "    <tr>\n",
       "      <th>21</th>\n",
       "      <td>0.505859</td>\n",
       "      <td>2.894531</td>\n",
       "      <td>1.138402e+03</td>\n",
       "      <td>22</td>\n",
       "    </tr>\n",
       "    <tr>\n",
       "      <th>22</th>\n",
       "      <td>0.713379</td>\n",
       "      <td>2.534180</td>\n",
       "      <td>1.046453e+03</td>\n",
       "      <td>23</td>\n",
       "    </tr>\n",
       "    <tr>\n",
       "      <th>23</th>\n",
       "      <td>0.430695</td>\n",
       "      <td>2.770935</td>\n",
       "      <td>1.036092e+03</td>\n",
       "      <td>24</td>\n",
       "    </tr>\n",
       "    <tr>\n",
       "      <th>24</th>\n",
       "      <td>0.602448</td>\n",
       "      <td>2.585632</td>\n",
       "      <td>1.035954e+03</td>\n",
       "      <td>25</td>\n",
       "    </tr>\n",
       "    <tr>\n",
       "      <th>25</th>\n",
       "      <td>0.561773</td>\n",
       "      <td>2.624718</td>\n",
       "      <td>1.035953e+03</td>\n",
       "      <td>26</td>\n",
       "    </tr>\n",
       "    <tr>\n",
       "      <th>26</th>\n",
       "      <td>0.537040</td>\n",
       "      <td>2.650736</td>\n",
       "      <td>1.035951e+03</td>\n",
       "      <td>27</td>\n",
       "    </tr>\n",
       "    <tr>\n",
       "      <th>27</th>\n",
       "      <td>0.562006</td>\n",
       "      <td>2.625515</td>\n",
       "      <td>1.035951e+03</td>\n",
       "      <td>28</td>\n",
       "    </tr>\n",
       "    <tr>\n",
       "      <th>28</th>\n",
       "      <td>0.554326</td>\n",
       "      <td>2.633044</td>\n",
       "      <td>1.035951e+03</td>\n",
       "      <td>29</td>\n",
       "    </tr>\n",
       "    <tr>\n",
       "      <th>29</th>\n",
       "      <td>0.579291</td>\n",
       "      <td>2.607823</td>\n",
       "      <td>1.035951e+03</td>\n",
       "      <td>30</td>\n",
       "    </tr>\n",
       "    <tr>\n",
       "      <th>30</th>\n",
       "      <td>0.584332</td>\n",
       "      <td>2.602788</td>\n",
       "      <td>1.035950e+03</td>\n",
       "      <td>31</td>\n",
       "    </tr>\n",
       "    <tr>\n",
       "      <th>31</th>\n",
       "      <td>0.579936</td>\n",
       "      <td>2.607196</td>\n",
       "      <td>1.035950e+03</td>\n",
       "      <td>32</td>\n",
       "    </tr>\n",
       "    <tr>\n",
       "      <th>32</th>\n",
       "      <td>0.581207</td>\n",
       "      <td>2.605920</td>\n",
       "      <td>1.035950e+03</td>\n",
       "      <td>33</td>\n",
       "    </tr>\n",
       "    <tr>\n",
       "      <th>33</th>\n",
       "      <td>0.580170</td>\n",
       "      <td>2.606962</td>\n",
       "      <td>1.035950e+03</td>\n",
       "      <td>34</td>\n",
       "    </tr>\n",
       "    <tr>\n",
       "      <th>34</th>\n",
       "      <td>0.580567</td>\n",
       "      <td>2.606563</td>\n",
       "      <td>1.035950e+03</td>\n",
       "      <td>35</td>\n",
       "    </tr>\n",
       "    <tr>\n",
       "      <th>35</th>\n",
       "      <td>0.580525</td>\n",
       "      <td>2.606605</td>\n",
       "      <td>1.035950e+03</td>\n",
       "      <td>36</td>\n",
       "    </tr>\n",
       "    <tr>\n",
       "      <th>36</th>\n",
       "      <td>0.580645</td>\n",
       "      <td>2.606484</td>\n",
       "      <td>1.035950e+03</td>\n",
       "      <td>37</td>\n",
       "    </tr>\n",
       "    <tr>\n",
       "      <th>37</th>\n",
       "      <td>0.580756</td>\n",
       "      <td>2.606372</td>\n",
       "      <td>1.035950e+03</td>\n",
       "      <td>38</td>\n",
       "    </tr>\n",
       "    <tr>\n",
       "      <th>38</th>\n",
       "      <td>0.580899</td>\n",
       "      <td>2.606229</td>\n",
       "      <td>1.035950e+03</td>\n",
       "      <td>39</td>\n",
       "    </tr>\n",
       "    <tr>\n",
       "      <th>39</th>\n",
       "      <td>0.580892</td>\n",
       "      <td>2.606236</td>\n",
       "      <td>1.035950e+03</td>\n",
       "      <td>40</td>\n",
       "    </tr>\n",
       "  </tbody>\n",
       "</table>\n",
       "</div>"
      ],
      "text/plain": [
       "    parameter 1  parameter 2    likelihood  iteration\n",
       "0     10.000000    15.000000  2.465198e+08          1\n",
       "1     10.500000    14.250000  2.342785e+08          2\n",
       "2     10.750000    13.500000  2.121969e+08          3\n",
       "3     10.250000    13.500000  1.920835e+08          4\n",
       "4     10.125000    12.750000  1.600844e+08          5\n",
       "5     10.875000    11.250000  1.362851e+08          6\n",
       "6     11.312500     9.375000  9.889637e+07          7\n",
       "7     10.687500     8.625000  7.027973e+07          8\n",
       "8     10.656250     6.187500  3.612738e+07          9\n",
       "9     11.843750     2.812500  2.022692e+07         10\n",
       "10    12.703125    -2.156250  6.890973e+06         11\n",
       "11    12.046875    -5.343750  2.968709e+06         12\n",
       "12    11.296875    -3.843750  2.441028e+06         13\n",
       "13    10.609375    -3.468750  1.821448e+06         14\n",
       "14     9.296875    -3.843750  9.183321e+05         15\n",
       "15     7.921875    -3.093750  4.506409e+05         16\n",
       "16     5.109375    -0.468750  4.860126e+04         17\n",
       "17     2.359375     1.031250  2.157157e+03         18\n",
       "18    -0.453125     3.656250  1.313819e+03         19\n",
       "19     1.593750     2.812500  1.267768e+03         20\n",
       "20     1.464844     2.132812  1.151233e+03         21\n",
       "21     0.505859     2.894531  1.138402e+03         22\n",
       "22     0.713379     2.534180  1.046453e+03         23\n",
       "23     0.430695     2.770935  1.036092e+03         24\n",
       "24     0.602448     2.585632  1.035954e+03         25\n",
       "25     0.561773     2.624718  1.035953e+03         26\n",
       "26     0.537040     2.650736  1.035951e+03         27\n",
       "27     0.562006     2.625515  1.035951e+03         28\n",
       "28     0.554326     2.633044  1.035951e+03         29\n",
       "29     0.579291     2.607823  1.035951e+03         30\n",
       "30     0.584332     2.602788  1.035950e+03         31\n",
       "31     0.579936     2.607196  1.035950e+03         32\n",
       "32     0.581207     2.605920  1.035950e+03         33\n",
       "33     0.580170     2.606962  1.035950e+03         34\n",
       "34     0.580567     2.606563  1.035950e+03         35\n",
       "35     0.580525     2.606605  1.035950e+03         36\n",
       "36     0.580645     2.606484  1.035950e+03         37\n",
       "37     0.580756     2.606372  1.035950e+03         38\n",
       "38     0.580899     2.606229  1.035950e+03         39\n",
       "39     0.580892     2.606236  1.035950e+03         40"
      ]
     },
     "execution_count": 18,
     "metadata": {},
     "output_type": "execute_result"
    }
   ],
   "source": [
    "callback = likelihood_sim.to_dataframe()\n",
    "\n",
    "callback"
   ]
  },
  {
   "cell_type": "code",
   "execution_count": 21,
   "id": "dc2cdec0",
   "metadata": {},
   "outputs": [
    {
     "data": {
      "text/plain": [
       "<matplotlib.colorbar.Colorbar at 0x7f5b849aa200>"
      ]
     },
     "execution_count": 21,
     "metadata": {},
     "output_type": "execute_result"
    },
    {
     "data": {
      "image/png": "[encoded data removed]",
      "text/plain": [
       "<Figure size 432x288 with 2 Axes>"
      ]
     },
     "metadata": {
      "needs_background": "light"
     },
     "output_type": "display_data"
    }
   ],
   "source": [
    "plt.contour(aa, bb, likelihood_values.reshape(aa.shape), 20)\n",
    "plt.ylabel(\"b\")\n",
    "plt.xlabel(\"a\")\n",
    "plt.plot(callback[\"parameter 1\"], callback[\"parameter 2\"])\n",
    "plt.plot(callback[\"parameter 1\"], callback[\"parameter 2\"], 'bx')\n",
    "plt.plot(lik_model.x[0], lik_model.x[1], 'ko', label=f\"mu(a={lik_model.x[0]:.2f}, b={lik_model.x[1]:.2f})\")\n",
    "plt.legend()\n",
    "plt.colorbar()"
   ]
  }
 ],
 "metadata": {
  "kernelspec": {
   "display_name": "Python 3 (ipykernel)",
   "language": "python",
   "name": "python3"
  },
  "language_info": {
   "codemirror_mode": {
    "name": "ipython",
    "version": 3
   },
   "file_extension": ".py",
   "mimetype": "text/x-python",
   "name": "python",
   "nbconvert_exporter": "python",
   "pygments_lexer": "ipython3",
   "version": "3.10.4"
  }
 },
 "nbformat": 4,
 "nbformat_minor": 5
}
